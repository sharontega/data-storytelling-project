{
 "cells": [
  {
   "cell_type": "code",
   "execution_count": 1,
   "id": "52d9d2e5",
   "metadata": {},
   "outputs": [],
   "source": [
    "import pandas as pd\n",
    "import numpy as py\n",
    "import seaborn as sns\n",
    "import matplotlib.pyplot as plt"
   ]
  },
  {
   "cell_type": "code",
   "execution_count": 2,
   "id": "e65706f0",
   "metadata": {},
   "outputs": [
    {
     "data": {
      "text/html": [
       "<div>\n",
       "<style scoped>\n",
       "    .dataframe tbody tr th:only-of-type {\n",
       "        vertical-align: middle;\n",
       "    }\n",
       "\n",
       "    .dataframe tbody tr th {\n",
       "        vertical-align: top;\n",
       "    }\n",
       "\n",
       "    .dataframe thead th {\n",
       "        text-align: right;\n",
       "    }\n",
       "</style>\n",
       "<table border=\"1\" class=\"dataframe\">\n",
       "  <thead>\n",
       "    <tr style=\"text-align: right;\">\n",
       "      <th></th>\n",
       "      <th>#</th>\n",
       "      <th>Country,Other</th>\n",
       "      <th>TotalCases</th>\n",
       "      <th>NewCases</th>\n",
       "      <th>TotalDeaths</th>\n",
       "      <th>NewDeaths</th>\n",
       "      <th>TotalRecovered</th>\n",
       "      <th>NewRecovered</th>\n",
       "      <th>ActiveCases</th>\n",
       "      <th>Serious,Critical</th>\n",
       "      <th>...</th>\n",
       "      <th>TotalTests</th>\n",
       "      <th>Tests/\\n1M pop\\n</th>\n",
       "      <th>Population</th>\n",
       "      <th>Continent</th>\n",
       "      <th>1 Caseevery X ppl</th>\n",
       "      <th>1 Deathevery X ppl</th>\n",
       "      <th>1 Testevery X ppl</th>\n",
       "      <th>New Cases/1M pop</th>\n",
       "      <th>New Deaths/1M pop</th>\n",
       "      <th>Active Cases/1M pop</th>\n",
       "    </tr>\n",
       "  </thead>\n",
       "  <tbody>\n",
       "    <tr>\n",
       "      <th>0</th>\n",
       "      <td>NaN</td>\n",
       "      <td>\\nNorth America\\n</td>\n",
       "      <td>114,153,248</td>\n",
       "      <td>+6,265</td>\n",
       "      <td>1,522,430</td>\n",
       "      <td>+55</td>\n",
       "      <td>107,866,759</td>\n",
       "      <td>+10,999</td>\n",
       "      <td>4,764,059</td>\n",
       "      <td>9,410</td>\n",
       "      <td>...</td>\n",
       "      <td>NaN</td>\n",
       "      <td>NaN</td>\n",
       "      <td>NaN</td>\n",
       "      <td>North America</td>\n",
       "      <td>\\n</td>\n",
       "      <td>NaN</td>\n",
       "      <td>NaN</td>\n",
       "      <td>NaN</td>\n",
       "      <td>NaN</td>\n",
       "      <td>NaN</td>\n",
       "    </tr>\n",
       "    <tr>\n",
       "      <th>1</th>\n",
       "      <td>NaN</td>\n",
       "      <td>\\nAsia\\n</td>\n",
       "      <td>183,436,401</td>\n",
       "      <td>+310,063</td>\n",
       "      <td>1,466,499</td>\n",
       "      <td>+595</td>\n",
       "      <td>175,027,860</td>\n",
       "      <td>+382,016</td>\n",
       "      <td>6,942,042</td>\n",
       "      <td>12,791</td>\n",
       "      <td>...</td>\n",
       "      <td>NaN</td>\n",
       "      <td>NaN</td>\n",
       "      <td>NaN</td>\n",
       "      <td>Asia</td>\n",
       "      <td>\\n</td>\n",
       "      <td>NaN</td>\n",
       "      <td>NaN</td>\n",
       "      <td>NaN</td>\n",
       "      <td>NaN</td>\n",
       "      <td>NaN</td>\n",
       "    </tr>\n",
       "    <tr>\n",
       "      <th>2</th>\n",
       "      <td>NaN</td>\n",
       "      <td>\\nEurope\\n</td>\n",
       "      <td>221,607,231</td>\n",
       "      <td>+125,128</td>\n",
       "      <td>1,902,165</td>\n",
       "      <td>+463</td>\n",
       "      <td>215,212,855</td>\n",
       "      <td>+153,063</td>\n",
       "      <td>4,492,211</td>\n",
       "      <td>9,177</td>\n",
       "      <td>...</td>\n",
       "      <td>NaN</td>\n",
       "      <td>NaN</td>\n",
       "      <td>NaN</td>\n",
       "      <td>Europe</td>\n",
       "      <td>\\n</td>\n",
       "      <td>NaN</td>\n",
       "      <td>NaN</td>\n",
       "      <td>NaN</td>\n",
       "      <td>NaN</td>\n",
       "      <td>NaN</td>\n",
       "    </tr>\n",
       "    <tr>\n",
       "      <th>3</th>\n",
       "      <td>NaN</td>\n",
       "      <td>\\nSouth America\\n</td>\n",
       "      <td>63,583,928</td>\n",
       "      <td>+6,580</td>\n",
       "      <td>1,325,158</td>\n",
       "      <td>+8</td>\n",
       "      <td>61,625,601</td>\n",
       "      <td>+22,308</td>\n",
       "      <td>633,169</td>\n",
       "      <td>10,529</td>\n",
       "      <td>...</td>\n",
       "      <td>NaN</td>\n",
       "      <td>NaN</td>\n",
       "      <td>NaN</td>\n",
       "      <td>South America</td>\n",
       "      <td>\\n</td>\n",
       "      <td>NaN</td>\n",
       "      <td>NaN</td>\n",
       "      <td>NaN</td>\n",
       "      <td>NaN</td>\n",
       "      <td>NaN</td>\n",
       "    </tr>\n",
       "    <tr>\n",
       "      <th>4</th>\n",
       "      <td>NaN</td>\n",
       "      <td>\\nOceania\\n</td>\n",
       "      <td>12,142,436</td>\n",
       "      <td>+15,580</td>\n",
       "      <td>19,429</td>\n",
       "      <td>+86</td>\n",
       "      <td>11,921,838</td>\n",
       "      <td>+12,823</td>\n",
       "      <td>201,169</td>\n",
       "      <td>139</td>\n",
       "      <td>...</td>\n",
       "      <td>NaN</td>\n",
       "      <td>NaN</td>\n",
       "      <td>NaN</td>\n",
       "      <td>Australia/Oceania</td>\n",
       "      <td>\\n</td>\n",
       "      <td>NaN</td>\n",
       "      <td>NaN</td>\n",
       "      <td>NaN</td>\n",
       "      <td>NaN</td>\n",
       "      <td>NaN</td>\n",
       "    </tr>\n",
       "  </tbody>\n",
       "</table>\n",
       "<p>5 rows × 22 columns</p>\n",
       "</div>"
      ],
      "text/plain": [
       "    #      Country,Other   TotalCases  NewCases TotalDeaths NewDeaths  \\\n",
       "0 NaN  \\nNorth America\\n  114,153,248    +6,265   1,522,430       +55   \n",
       "1 NaN           \\nAsia\\n  183,436,401  +310,063   1,466,499      +595   \n",
       "2 NaN         \\nEurope\\n  221,607,231  +125,128   1,902,165      +463   \n",
       "3 NaN  \\nSouth America\\n   63,583,928    +6,580   1,325,158        +8   \n",
       "4 NaN        \\nOceania\\n   12,142,436   +15,580      19,429       +86   \n",
       "\n",
       "  TotalRecovered NewRecovered ActiveCases Serious,Critical  ... TotalTests  \\\n",
       "0    107,866,759      +10,999   4,764,059            9,410  ...        NaN   \n",
       "1    175,027,860     +382,016   6,942,042           12,791  ...        NaN   \n",
       "2    215,212,855     +153,063   4,492,211            9,177  ...        NaN   \n",
       "3     61,625,601      +22,308     633,169           10,529  ...        NaN   \n",
       "4     11,921,838      +12,823     201,169              139  ...        NaN   \n",
       "\n",
       "  Tests/\\n1M pop\\n Population          Continent 1 Caseevery X ppl  \\\n",
       "0              NaN        NaN      North America                \\n   \n",
       "1              NaN        NaN               Asia                \\n   \n",
       "2              NaN        NaN             Europe                \\n   \n",
       "3              NaN        NaN      South America                \\n   \n",
       "4              NaN        NaN  Australia/Oceania                \\n   \n",
       "\n",
       "  1 Deathevery X ppl 1 Testevery X ppl New Cases/1M pop  New Deaths/1M pop  \\\n",
       "0                NaN               NaN              NaN                NaN   \n",
       "1                NaN               NaN              NaN                NaN   \n",
       "2                NaN               NaN              NaN                NaN   \n",
       "3                NaN               NaN              NaN                NaN   \n",
       "4                NaN               NaN              NaN                NaN   \n",
       "\n",
       "  Active Cases/1M pop  \n",
       "0                 NaN  \n",
       "1                 NaN  \n",
       "2                 NaN  \n",
       "3                 NaN  \n",
       "4                 NaN  \n",
       "\n",
       "[5 rows x 22 columns]"
      ]
     },
     "execution_count": 2,
     "metadata": {},
     "output_type": "execute_result"
    }
   ],
   "source": [
    "df=pd.read_csv('prducts.csv', index_col=0)\n",
    "\n",
    "df.head()"
   ]
  },
  {
   "cell_type": "code",
   "execution_count": 3,
   "id": "62139ae3",
   "metadata": {
    "scrolled": true
   },
   "outputs": [
    {
     "data": {
      "text/html": [
       "<div>\n",
       "<style scoped>\n",
       "    .dataframe tbody tr th:only-of-type {\n",
       "        vertical-align: middle;\n",
       "    }\n",
       "\n",
       "    .dataframe tbody tr th {\n",
       "        vertical-align: top;\n",
       "    }\n",
       "\n",
       "    .dataframe thead th {\n",
       "        text-align: right;\n",
       "    }\n",
       "</style>\n",
       "<table border=\"1\" class=\"dataframe\">\n",
       "  <thead>\n",
       "    <tr style=\"text-align: right;\">\n",
       "      <th></th>\n",
       "      <th>Country,Other</th>\n",
       "      <th>TotalCases</th>\n",
       "      <th>NewCases</th>\n",
       "      <th>TotalDeaths</th>\n",
       "      <th>NewDeaths</th>\n",
       "      <th>TotalRecovered</th>\n",
       "      <th>NewRecovered</th>\n",
       "      <th>ActiveCases</th>\n",
       "      <th>Serious,Critical</th>\n",
       "      <th>Tot Cases/1M pop</th>\n",
       "      <th>Deaths/1M pop</th>\n",
       "      <th>TotalTests</th>\n",
       "      <th>Tests/\\n1M pop\\n</th>\n",
       "      <th>Population</th>\n",
       "    </tr>\n",
       "  </thead>\n",
       "  <tbody>\n",
       "    <tr>\n",
       "      <th>0</th>\n",
       "      <td>World</td>\n",
       "      <td>607,528,822</td>\n",
       "      <td>+463,810</td>\n",
       "      <td>6,493,061</td>\n",
       "      <td>+1,208</td>\n",
       "      <td>583,595,093</td>\n",
       "      <td>+581,356</td>\n",
       "      <td>17,440,668</td>\n",
       "      <td>43,071</td>\n",
       "      <td>77,940</td>\n",
       "      <td>833.0</td>\n",
       "      <td>NaN</td>\n",
       "      <td>NaN</td>\n",
       "      <td>NaN</td>\n",
       "    </tr>\n",
       "    <tr>\n",
       "      <th>1</th>\n",
       "      <td>USA</td>\n",
       "      <td>96,149,016</td>\n",
       "      <td>NaN</td>\n",
       "      <td>1,069,748</td>\n",
       "      <td>NaN</td>\n",
       "      <td>91,873,169</td>\n",
       "      <td>NaN</td>\n",
       "      <td>3,206,099</td>\n",
       "      <td>4,029</td>\n",
       "      <td>NaN</td>\n",
       "      <td>NaN</td>\n",
       "      <td>1,100,355,942</td>\n",
       "      <td>NaN</td>\n",
       "      <td></td>\n",
       "    </tr>\n",
       "    <tr>\n",
       "      <th>2</th>\n",
       "      <td>India</td>\n",
       "      <td>44,429,258</td>\n",
       "      <td>NaN</td>\n",
       "      <td>527,874</td>\n",
       "      <td>NaN</td>\n",
       "      <td>43,835,852</td>\n",
       "      <td>NaN</td>\n",
       "      <td>65,532</td>\n",
       "      <td>698</td>\n",
       "      <td>31,526</td>\n",
       "      <td>375</td>\n",
       "      <td>885,881,136</td>\n",
       "      <td>628,608</td>\n",
       "      <td>1,409,273,386</td>\n",
       "    </tr>\n",
       "    <tr>\n",
       "      <th>3</th>\n",
       "      <td>France</td>\n",
       "      <td>34,529,201</td>\n",
       "      <td>+19,240</td>\n",
       "      <td>154,093</td>\n",
       "      <td>+54</td>\n",
       "      <td>34,015,242</td>\n",
       "      <td>+24,240</td>\n",
       "      <td>359,866</td>\n",
       "      <td>869</td>\n",
       "      <td>526,480</td>\n",
       "      <td>2,350</td>\n",
       "      <td>271,490,188</td>\n",
       "      <td>4,139,517</td>\n",
       "      <td>65,584,999</td>\n",
       "    </tr>\n",
       "    <tr>\n",
       "      <th>4</th>\n",
       "      <td>Brazil</td>\n",
       "      <td>34,414,011</td>\n",
       "      <td>NaN</td>\n",
       "      <td>683,914</td>\n",
       "      <td>NaN</td>\n",
       "      <td>33,457,359</td>\n",
       "      <td>NaN</td>\n",
       "      <td>272,738</td>\n",
       "      <td>8,318</td>\n",
       "      <td>159,458</td>\n",
       "      <td>3,169</td>\n",
       "      <td>63,776,166</td>\n",
       "      <td>295,508</td>\n",
       "      <td>215,818,679</td>\n",
       "    </tr>\n",
       "  </tbody>\n",
       "</table>\n",
       "</div>"
      ],
      "text/plain": [
       "  Country,Other   TotalCases  NewCases TotalDeaths NewDeaths TotalRecovered  \\\n",
       "0         World  607,528,822  +463,810   6,493,061    +1,208    583,595,093   \n",
       "1           USA   96,149,016       NaN  1,069,748        NaN     91,873,169   \n",
       "2         India   44,429,258       NaN    527,874        NaN     43,835,852   \n",
       "3        France   34,529,201   +19,240    154,093        +54     34,015,242   \n",
       "4        Brazil   34,414,011       NaN    683,914        NaN     33,457,359   \n",
       "\n",
       "  NewRecovered ActiveCases Serious,Critical Tot Cases/1M pop Deaths/1M pop  \\\n",
       "0     +581,356  17,440,668           43,071           77,940         833.0   \n",
       "1          NaN   3,206,099            4,029              NaN           NaN   \n",
       "2          NaN      65,532              698           31,526           375   \n",
       "3      +24,240     359,866              869          526,480         2,350   \n",
       "4          NaN     272,738            8,318          159,458         3,169   \n",
       "\n",
       "      TotalTests Tests/\\n1M pop\\n      Population  \n",
       "0            NaN              NaN             NaN  \n",
       "1  1,100,355,942              NaN                  \n",
       "2    885,881,136          628,608  1,409,273,386   \n",
       "3    271,490,188        4,139,517     65,584,999   \n",
       "4     63,776,166          295,508    215,818,679   "
      ]
     },
     "execution_count": 3,
     "metadata": {},
     "output_type": "execute_result"
    }
   ],
   "source": [
    "df=df.drop(df.index[0:7])\n",
    "df=df.drop(df.index[238:245])\n",
    "df=df.drop(['#'],axis='columns')\n",
    "df=df.drop(['Continent','1 Caseevery X ppl','1 Deathevery X ppl','1 Testevery X ppl', 'New Cases/1M pop', 'New Deaths/1M pop',\n",
    "       'Active Cases/1M pop'], axis='columns')\n",
    "df.reset_index(inplace=True, drop=True)\n",
    "df.head()"
   ]
  },
  {
   "cell_type": "code",
   "execution_count": 4,
   "id": "defd78eb",
   "metadata": {},
   "outputs": [
    {
     "data": {
      "text/plain": [
       "Index(['Country,Other', 'TotalCases', 'NewCases', 'TotalDeaths', 'NewDeaths',\n",
       "       'TotalRecovered', 'NewRecovered', 'ActiveCases', 'Serious,Critical',\n",
       "       'Tot Cases/1M pop', 'Deaths/1M pop', 'TotalTests', 'Tests/\\n1M pop\\n',\n",
       "       'Population'],\n",
       "      dtype='object')"
      ]
     },
     "execution_count": 4,
     "metadata": {},
     "output_type": "execute_result"
    }
   ],
   "source": [
    "df.columns"
   ]
  },
  {
   "cell_type": "code",
   "execution_count": 5,
   "id": "f645374e",
   "metadata": {
    "scrolled": true
   },
   "outputs": [
    {
     "data": {
      "text/html": [
       "<div>\n",
       "<style scoped>\n",
       "    .dataframe tbody tr th:only-of-type {\n",
       "        vertical-align: middle;\n",
       "    }\n",
       "\n",
       "    .dataframe tbody tr th {\n",
       "        vertical-align: top;\n",
       "    }\n",
       "\n",
       "    .dataframe thead th {\n",
       "        text-align: right;\n",
       "    }\n",
       "</style>\n",
       "<table border=\"1\" class=\"dataframe\">\n",
       "  <thead>\n",
       "    <tr style=\"text-align: right;\">\n",
       "      <th></th>\n",
       "      <th>Country</th>\n",
       "      <th>TotalCases</th>\n",
       "      <th>NewCases</th>\n",
       "      <th>TotalDeaths</th>\n",
       "      <th>NewDeaths</th>\n",
       "      <th>TotalRecovered</th>\n",
       "      <th>NewRecovered</th>\n",
       "      <th>ActiveCases</th>\n",
       "      <th>Serious</th>\n",
       "      <th>Tot Cases/1M pop</th>\n",
       "      <th>Deaths/1M pop</th>\n",
       "      <th>TotalTests</th>\n",
       "      <th>Tests/\\n1M pop\\n</th>\n",
       "      <th>Population</th>\n",
       "    </tr>\n",
       "  </thead>\n",
       "  <tbody>\n",
       "    <tr>\n",
       "      <th>0</th>\n",
       "      <td>World</td>\n",
       "      <td>607,528,822</td>\n",
       "      <td>+463,810</td>\n",
       "      <td>6,493,061</td>\n",
       "      <td>+1,208</td>\n",
       "      <td>583,595,093</td>\n",
       "      <td>+581,356</td>\n",
       "      <td>17,440,668</td>\n",
       "      <td>43,071</td>\n",
       "      <td>77,940</td>\n",
       "      <td>833.0</td>\n",
       "      <td>NaN</td>\n",
       "      <td>NaN</td>\n",
       "      <td>NaN</td>\n",
       "    </tr>\n",
       "    <tr>\n",
       "      <th>1</th>\n",
       "      <td>USA</td>\n",
       "      <td>96,149,016</td>\n",
       "      <td>NaN</td>\n",
       "      <td>1,069,748</td>\n",
       "      <td>NaN</td>\n",
       "      <td>91,873,169</td>\n",
       "      <td>NaN</td>\n",
       "      <td>3,206,099</td>\n",
       "      <td>4,029</td>\n",
       "      <td>NaN</td>\n",
       "      <td>NaN</td>\n",
       "      <td>1,100,355,942</td>\n",
       "      <td>NaN</td>\n",
       "      <td></td>\n",
       "    </tr>\n",
       "    <tr>\n",
       "      <th>2</th>\n",
       "      <td>India</td>\n",
       "      <td>44,429,258</td>\n",
       "      <td>NaN</td>\n",
       "      <td>527,874</td>\n",
       "      <td>NaN</td>\n",
       "      <td>43,835,852</td>\n",
       "      <td>NaN</td>\n",
       "      <td>65,532</td>\n",
       "      <td>698</td>\n",
       "      <td>31,526</td>\n",
       "      <td>375</td>\n",
       "      <td>885,881,136</td>\n",
       "      <td>628,608</td>\n",
       "      <td>1,409,273,386</td>\n",
       "    </tr>\n",
       "    <tr>\n",
       "      <th>3</th>\n",
       "      <td>France</td>\n",
       "      <td>34,529,201</td>\n",
       "      <td>+19,240</td>\n",
       "      <td>154,093</td>\n",
       "      <td>+54</td>\n",
       "      <td>34,015,242</td>\n",
       "      <td>+24,240</td>\n",
       "      <td>359,866</td>\n",
       "      <td>869</td>\n",
       "      <td>526,480</td>\n",
       "      <td>2,350</td>\n",
       "      <td>271,490,188</td>\n",
       "      <td>4,139,517</td>\n",
       "      <td>65,584,999</td>\n",
       "    </tr>\n",
       "    <tr>\n",
       "      <th>4</th>\n",
       "      <td>Brazil</td>\n",
       "      <td>34,414,011</td>\n",
       "      <td>NaN</td>\n",
       "      <td>683,914</td>\n",
       "      <td>NaN</td>\n",
       "      <td>33,457,359</td>\n",
       "      <td>NaN</td>\n",
       "      <td>272,738</td>\n",
       "      <td>8,318</td>\n",
       "      <td>159,458</td>\n",
       "      <td>3,169</td>\n",
       "      <td>63,776,166</td>\n",
       "      <td>295,508</td>\n",
       "      <td>215,818,679</td>\n",
       "    </tr>\n",
       "  </tbody>\n",
       "</table>\n",
       "</div>"
      ],
      "text/plain": [
       "  Country   TotalCases  NewCases TotalDeaths NewDeaths TotalRecovered  \\\n",
       "0   World  607,528,822  +463,810   6,493,061    +1,208    583,595,093   \n",
       "1     USA   96,149,016       NaN  1,069,748        NaN     91,873,169   \n",
       "2   India   44,429,258       NaN    527,874        NaN     43,835,852   \n",
       "3  France   34,529,201   +19,240    154,093        +54     34,015,242   \n",
       "4  Brazil   34,414,011       NaN    683,914        NaN     33,457,359   \n",
       "\n",
       "  NewRecovered ActiveCases Serious Tot Cases/1M pop Deaths/1M pop  \\\n",
       "0     +581,356  17,440,668  43,071           77,940         833.0   \n",
       "1          NaN   3,206,099   4,029              NaN           NaN   \n",
       "2          NaN      65,532     698           31,526           375   \n",
       "3      +24,240     359,866     869          526,480         2,350   \n",
       "4          NaN     272,738   8,318          159,458         3,169   \n",
       "\n",
       "      TotalTests Tests/\\n1M pop\\n      Population  \n",
       "0            NaN              NaN             NaN  \n",
       "1  1,100,355,942              NaN                  \n",
       "2    885,881,136          628,608  1,409,273,386   \n",
       "3    271,490,188        4,139,517     65,584,999   \n",
       "4     63,776,166          295,508    215,818,679   "
      ]
     },
     "execution_count": 5,
     "metadata": {},
     "output_type": "execute_result"
    }
   ],
   "source": [
    "df.rename(columns={'Serious,Critical':'Serious','Country,Other':'Country'}, inplace=True)\n",
    "df.head()"
   ]
  },
  {
   "cell_type": "code",
   "execution_count": 6,
   "id": "3f1b96c7",
   "metadata": {},
   "outputs": [
    {
     "data": {
      "text/plain": [
       "(238, 14)"
      ]
     },
     "execution_count": 6,
     "metadata": {},
     "output_type": "execute_result"
    }
   ],
   "source": [
    "df.shape"
   ]
  },
  {
   "cell_type": "code",
   "execution_count": 7,
   "id": "3d698f80",
   "metadata": {
    "scrolled": true
   },
   "outputs": [
    {
     "data": {
      "text/html": [
       "<div>\n",
       "<style scoped>\n",
       "    .dataframe tbody tr th:only-of-type {\n",
       "        vertical-align: middle;\n",
       "    }\n",
       "\n",
       "    .dataframe tbody tr th {\n",
       "        vertical-align: top;\n",
       "    }\n",
       "\n",
       "    .dataframe thead th {\n",
       "        text-align: right;\n",
       "    }\n",
       "</style>\n",
       "<table border=\"1\" class=\"dataframe\">\n",
       "  <thead>\n",
       "    <tr style=\"text-align: right;\">\n",
       "      <th></th>\n",
       "      <th>Country</th>\n",
       "      <th>TotalCases</th>\n",
       "      <th>NewCases</th>\n",
       "      <th>TotalDeaths</th>\n",
       "      <th>NewDeaths</th>\n",
       "      <th>TotalRecovered</th>\n",
       "      <th>NewRecovered</th>\n",
       "      <th>ActiveCases</th>\n",
       "      <th>Serious</th>\n",
       "      <th>Tot Cases/1M pop</th>\n",
       "      <th>Deaths/1M pop</th>\n",
       "      <th>TotalTests</th>\n",
       "      <th>Tests/\\n1M pop\\n</th>\n",
       "      <th>Population</th>\n",
       "    </tr>\n",
       "  </thead>\n",
       "  <tbody>\n",
       "    <tr>\n",
       "      <th>count</th>\n",
       "      <td>238</td>\n",
       "      <td>238</td>\n",
       "      <td>73</td>\n",
       "      <td>238</td>\n",
       "      <td>46</td>\n",
       "      <td>219</td>\n",
       "      <td>74</td>\n",
       "      <td>220</td>\n",
       "      <td>159</td>\n",
       "      <td>228</td>\n",
       "      <td>223</td>\n",
       "      <td>214</td>\n",
       "      <td>213</td>\n",
       "      <td>230</td>\n",
       "    </tr>\n",
       "    <tr>\n",
       "      <th>unique</th>\n",
       "      <td>232</td>\n",
       "      <td>238</td>\n",
       "      <td>68</td>\n",
       "      <td>223</td>\n",
       "      <td>31</td>\n",
       "      <td>219</td>\n",
       "      <td>70</td>\n",
       "      <td>211</td>\n",
       "      <td>89</td>\n",
       "      <td>228</td>\n",
       "      <td>202</td>\n",
       "      <td>214</td>\n",
       "      <td>213</td>\n",
       "      <td>228</td>\n",
       "    </tr>\n",
       "    <tr>\n",
       "      <th>top</th>\n",
       "      <td>Total:</td>\n",
       "      <td>4,782,624</td>\n",
       "      <td>+568</td>\n",
       "      <td></td>\n",
       "      <td>+1</td>\n",
       "      <td>471,641</td>\n",
       "      <td>+8</td>\n",
       "      <td>0</td>\n",
       "      <td>1</td>\n",
       "      <td>149,176</td>\n",
       "      <td>13</td>\n",
       "      <td>5,749,152</td>\n",
       "      <td>1,010,039</td>\n",
       "      <td></td>\n",
       "    </tr>\n",
       "    <tr>\n",
       "      <th>freq</th>\n",
       "      <td>7</td>\n",
       "      <td>1</td>\n",
       "      <td>2</td>\n",
       "      <td>5</td>\n",
       "      <td>8</td>\n",
       "      <td>1</td>\n",
       "      <td>2</td>\n",
       "      <td>6</td>\n",
       "      <td>15</td>\n",
       "      <td>1</td>\n",
       "      <td>3</td>\n",
       "      <td>1</td>\n",
       "      <td>1</td>\n",
       "      <td>3</td>\n",
       "    </tr>\n",
       "  </tbody>\n",
       "</table>\n",
       "</div>"
      ],
      "text/plain": [
       "       Country TotalCases NewCases TotalDeaths NewDeaths TotalRecovered  \\\n",
       "count      238        238       73         238        46            219   \n",
       "unique     232        238       68         223        31            219   \n",
       "top     Total:  4,782,624     +568                    +1        471,641   \n",
       "freq         7          1        2           5         8              1   \n",
       "\n",
       "       NewRecovered ActiveCases Serious Tot Cases/1M pop Deaths/1M pop  \\\n",
       "count            74         220     159              228           223   \n",
       "unique           70         211      89              228           202   \n",
       "top              +8           0       1          149,176            13   \n",
       "freq              2           6      15                1             3   \n",
       "\n",
       "       TotalTests Tests/\\n1M pop\\n Population  \n",
       "count         214              213        230  \n",
       "unique        214              213        228  \n",
       "top     5,749,152        1,010,039             \n",
       "freq            1                1          3  "
      ]
     },
     "execution_count": 7,
     "metadata": {},
     "output_type": "execute_result"
    }
   ],
   "source": [
    "df.describe()"
   ]
  },
  {
   "cell_type": "code",
   "execution_count": 8,
   "id": "a3045deb",
   "metadata": {
    "scrolled": true
   },
   "outputs": [
    {
     "name": "stdout",
     "output_type": "stream",
     "text": [
      "<class 'pandas.core.frame.DataFrame'>\n",
      "RangeIndex: 238 entries, 0 to 237\n",
      "Data columns (total 14 columns):\n",
      " #   Column            Non-Null Count  Dtype \n",
      "---  ------            --------------  ----- \n",
      " 0   Country           238 non-null    object\n",
      " 1   TotalCases        238 non-null    object\n",
      " 2   NewCases          73 non-null     object\n",
      " 3   TotalDeaths       238 non-null    object\n",
      " 4   NewDeaths         46 non-null     object\n",
      " 5   TotalRecovered    219 non-null    object\n",
      " 6   NewRecovered      74 non-null     object\n",
      " 7   ActiveCases       220 non-null    object\n",
      " 8   Serious           159 non-null    object\n",
      " 9   Tot Cases/1M pop  228 non-null    object\n",
      " 10  Deaths/1M pop     223 non-null    object\n",
      " 11  TotalTests        214 non-null    object\n",
      " 12  Tests/\n",
      "1M pop\n",
      "    213 non-null    object\n",
      " 13  Population        230 non-null    object\n",
      "dtypes: object(14)\n",
      "memory usage: 26.2+ KB\n"
     ]
    }
   ],
   "source": [
    "df.info()"
   ]
  },
  {
   "cell_type": "code",
   "execution_count": 9,
   "id": "1e6508c0",
   "metadata": {
    "scrolled": false
   },
   "outputs": [
    {
     "name": "stderr",
     "output_type": "stream",
     "text": [
      "<ipython-input-9-fe45a9d0e5ee>:1: FutureWarning: The default value of regex will change from True to False in a future version. In addition, single character regular expressions will*not* be treated as literal strings when regex=True.\n",
      "  df['NewCases']=df['NewCases'].str.replace('+','')\n",
      "<ipython-input-9-fe45a9d0e5ee>:2: FutureWarning: The default value of regex will change from True to False in a future version. In addition, single character regular expressions will*not* be treated as literal strings when regex=True.\n",
      "  df['NewDeaths']=df['NewDeaths'].str.replace('+','')\n",
      "<ipython-input-9-fe45a9d0e5ee>:3: FutureWarning: The default value of regex will change from True to False in a future version. In addition, single character regular expressions will*not* be treated as literal strings when regex=True.\n",
      "  df['NewRecovered']=df['NewRecovered'].str.replace('+','')\n"
     ]
    },
    {
     "data": {
      "text/html": [
       "<div>\n",
       "<style scoped>\n",
       "    .dataframe tbody tr th:only-of-type {\n",
       "        vertical-align: middle;\n",
       "    }\n",
       "\n",
       "    .dataframe tbody tr th {\n",
       "        vertical-align: top;\n",
       "    }\n",
       "\n",
       "    .dataframe thead th {\n",
       "        text-align: right;\n",
       "    }\n",
       "</style>\n",
       "<table border=\"1\" class=\"dataframe\">\n",
       "  <thead>\n",
       "    <tr style=\"text-align: right;\">\n",
       "      <th></th>\n",
       "      <th>Country</th>\n",
       "      <th>TotalCases</th>\n",
       "      <th>NewCases</th>\n",
       "      <th>TotalDeaths</th>\n",
       "      <th>NewDeaths</th>\n",
       "      <th>TotalRecovered</th>\n",
       "      <th>NewRecovered</th>\n",
       "      <th>ActiveCases</th>\n",
       "      <th>Serious</th>\n",
       "      <th>Tot Cases/1M pop</th>\n",
       "      <th>Deaths/1M pop</th>\n",
       "      <th>TotalTests</th>\n",
       "      <th>Tests/\\n1M pop\\n</th>\n",
       "      <th>Population</th>\n",
       "    </tr>\n",
       "  </thead>\n",
       "  <tbody>\n",
       "    <tr>\n",
       "      <th>0</th>\n",
       "      <td>World</td>\n",
       "      <td>607,528,822</td>\n",
       "      <td>463,810</td>\n",
       "      <td>6,493,061</td>\n",
       "      <td>1,208</td>\n",
       "      <td>583,595,093</td>\n",
       "      <td>581,356</td>\n",
       "      <td>17,440,668</td>\n",
       "      <td>43,071</td>\n",
       "      <td>77,940</td>\n",
       "      <td>833.0</td>\n",
       "      <td>NaN</td>\n",
       "      <td>NaN</td>\n",
       "      <td>NaN</td>\n",
       "    </tr>\n",
       "    <tr>\n",
       "      <th>1</th>\n",
       "      <td>USA</td>\n",
       "      <td>96,149,016</td>\n",
       "      <td>NaN</td>\n",
       "      <td>1,069,748</td>\n",
       "      <td>NaN</td>\n",
       "      <td>91,873,169</td>\n",
       "      <td>NaN</td>\n",
       "      <td>3,206,099</td>\n",
       "      <td>4,029</td>\n",
       "      <td>NaN</td>\n",
       "      <td>NaN</td>\n",
       "      <td>1,100,355,942</td>\n",
       "      <td>NaN</td>\n",
       "      <td></td>\n",
       "    </tr>\n",
       "    <tr>\n",
       "      <th>2</th>\n",
       "      <td>India</td>\n",
       "      <td>44,429,258</td>\n",
       "      <td>NaN</td>\n",
       "      <td>527,874</td>\n",
       "      <td>NaN</td>\n",
       "      <td>43,835,852</td>\n",
       "      <td>NaN</td>\n",
       "      <td>65,532</td>\n",
       "      <td>698</td>\n",
       "      <td>31,526</td>\n",
       "      <td>375</td>\n",
       "      <td>885,881,136</td>\n",
       "      <td>628,608</td>\n",
       "      <td>1,409,273,386</td>\n",
       "    </tr>\n",
       "    <tr>\n",
       "      <th>3</th>\n",
       "      <td>France</td>\n",
       "      <td>34,529,201</td>\n",
       "      <td>19,240</td>\n",
       "      <td>154,093</td>\n",
       "      <td>54</td>\n",
       "      <td>34,015,242</td>\n",
       "      <td>24,240</td>\n",
       "      <td>359,866</td>\n",
       "      <td>869</td>\n",
       "      <td>526,480</td>\n",
       "      <td>2,350</td>\n",
       "      <td>271,490,188</td>\n",
       "      <td>4,139,517</td>\n",
       "      <td>65,584,999</td>\n",
       "    </tr>\n",
       "    <tr>\n",
       "      <th>4</th>\n",
       "      <td>Brazil</td>\n",
       "      <td>34,414,011</td>\n",
       "      <td>NaN</td>\n",
       "      <td>683,914</td>\n",
       "      <td>NaN</td>\n",
       "      <td>33,457,359</td>\n",
       "      <td>NaN</td>\n",
       "      <td>272,738</td>\n",
       "      <td>8,318</td>\n",
       "      <td>159,458</td>\n",
       "      <td>3,169</td>\n",
       "      <td>63,776,166</td>\n",
       "      <td>295,508</td>\n",
       "      <td>215,818,679</td>\n",
       "    </tr>\n",
       "  </tbody>\n",
       "</table>\n",
       "</div>"
      ],
      "text/plain": [
       "  Country   TotalCases NewCases TotalDeaths NewDeaths TotalRecovered  \\\n",
       "0   World  607,528,822  463,810   6,493,061     1,208    583,595,093   \n",
       "1     USA   96,149,016      NaN  1,069,748        NaN     91,873,169   \n",
       "2   India   44,429,258      NaN    527,874        NaN     43,835,852   \n",
       "3  France   34,529,201   19,240    154,093         54     34,015,242   \n",
       "4  Brazil   34,414,011      NaN    683,914        NaN     33,457,359   \n",
       "\n",
       "  NewRecovered ActiveCases Serious Tot Cases/1M pop Deaths/1M pop  \\\n",
       "0      581,356  17,440,668  43,071           77,940         833.0   \n",
       "1          NaN   3,206,099   4,029              NaN           NaN   \n",
       "2          NaN      65,532     698           31,526           375   \n",
       "3       24,240     359,866     869          526,480         2,350   \n",
       "4          NaN     272,738   8,318          159,458         3,169   \n",
       "\n",
       "      TotalTests Tests/\\n1M pop\\n      Population  \n",
       "0            NaN              NaN             NaN  \n",
       "1  1,100,355,942              NaN                  \n",
       "2    885,881,136          628,608  1,409,273,386   \n",
       "3    271,490,188        4,139,517     65,584,999   \n",
       "4     63,776,166          295,508    215,818,679   "
      ]
     },
     "execution_count": 9,
     "metadata": {},
     "output_type": "execute_result"
    }
   ],
   "source": [
    "df['NewCases']=df['NewCases'].str.replace('+','')\n",
    "df['NewDeaths']=df['NewDeaths'].str.replace('+','')\n",
    "df['NewRecovered']=df['NewRecovered'].str.replace('+','')\n",
    "df.head()"
   ]
  },
  {
   "cell_type": "code",
   "execution_count": 10,
   "id": "15451c86",
   "metadata": {},
   "outputs": [
    {
     "data": {
      "text/html": [
       "<div>\n",
       "<style scoped>\n",
       "    .dataframe tbody tr th:only-of-type {\n",
       "        vertical-align: middle;\n",
       "    }\n",
       "\n",
       "    .dataframe tbody tr th {\n",
       "        vertical-align: top;\n",
       "    }\n",
       "\n",
       "    .dataframe thead th {\n",
       "        text-align: right;\n",
       "    }\n",
       "</style>\n",
       "<table border=\"1\" class=\"dataframe\">\n",
       "  <thead>\n",
       "    <tr style=\"text-align: right;\">\n",
       "      <th></th>\n",
       "      <th>Country</th>\n",
       "      <th>TotalCases</th>\n",
       "      <th>NewCases</th>\n",
       "      <th>TotalDeaths</th>\n",
       "      <th>NewDeaths</th>\n",
       "      <th>TotalRecovered</th>\n",
       "      <th>NewRecovered</th>\n",
       "      <th>ActiveCases</th>\n",
       "      <th>Serious</th>\n",
       "      <th>Tot Cases/1M pop</th>\n",
       "      <th>Deaths/1M pop</th>\n",
       "      <th>TotalTests</th>\n",
       "      <th>Tests/\\n1M pop\\n</th>\n",
       "      <th>Population</th>\n",
       "    </tr>\n",
       "  </thead>\n",
       "  <tbody>\n",
       "    <tr>\n",
       "      <th>0</th>\n",
       "      <td>World</td>\n",
       "      <td>607,528,822</td>\n",
       "      <td>463,810</td>\n",
       "      <td>6,493,061</td>\n",
       "      <td>1,208</td>\n",
       "      <td>583,595,093</td>\n",
       "      <td>581,356</td>\n",
       "      <td>17,440,668</td>\n",
       "      <td>43,071</td>\n",
       "      <td>77,940</td>\n",
       "      <td>833.0</td>\n",
       "      <td>NaN</td>\n",
       "      <td>NaN</td>\n",
       "      <td>NaN</td>\n",
       "    </tr>\n",
       "    <tr>\n",
       "      <th>1</th>\n",
       "      <td>USA</td>\n",
       "      <td>96,149,016</td>\n",
       "      <td>NaN</td>\n",
       "      <td>1,069,748</td>\n",
       "      <td>NaN</td>\n",
       "      <td>91,873,169</td>\n",
       "      <td>NaN</td>\n",
       "      <td>3,206,099</td>\n",
       "      <td>4,029</td>\n",
       "      <td>NaN</td>\n",
       "      <td>NaN</td>\n",
       "      <td>1,100,355,942</td>\n",
       "      <td>NaN</td>\n",
       "      <td></td>\n",
       "    </tr>\n",
       "    <tr>\n",
       "      <th>2</th>\n",
       "      <td>India</td>\n",
       "      <td>44,429,258</td>\n",
       "      <td>NaN</td>\n",
       "      <td>527,874</td>\n",
       "      <td>NaN</td>\n",
       "      <td>43,835,852</td>\n",
       "      <td>NaN</td>\n",
       "      <td>65,532</td>\n",
       "      <td>698</td>\n",
       "      <td>31,526</td>\n",
       "      <td>375</td>\n",
       "      <td>885,881,136</td>\n",
       "      <td>628,608</td>\n",
       "      <td>1,409,273,386</td>\n",
       "    </tr>\n",
       "    <tr>\n",
       "      <th>3</th>\n",
       "      <td>France</td>\n",
       "      <td>34,529,201</td>\n",
       "      <td>19,240</td>\n",
       "      <td>154,093</td>\n",
       "      <td>54</td>\n",
       "      <td>34,015,242</td>\n",
       "      <td>24,240</td>\n",
       "      <td>359,866</td>\n",
       "      <td>869</td>\n",
       "      <td>526,480</td>\n",
       "      <td>2,350</td>\n",
       "      <td>271,490,188</td>\n",
       "      <td>4,139,517</td>\n",
       "      <td>65,584,999</td>\n",
       "    </tr>\n",
       "    <tr>\n",
       "      <th>4</th>\n",
       "      <td>Brazil</td>\n",
       "      <td>34,414,011</td>\n",
       "      <td>NaN</td>\n",
       "      <td>683,914</td>\n",
       "      <td>NaN</td>\n",
       "      <td>33,457,359</td>\n",
       "      <td>NaN</td>\n",
       "      <td>272,738</td>\n",
       "      <td>8,318</td>\n",
       "      <td>159,458</td>\n",
       "      <td>3,169</td>\n",
       "      <td>63,776,166</td>\n",
       "      <td>295,508</td>\n",
       "      <td>215,818,679</td>\n",
       "    </tr>\n",
       "  </tbody>\n",
       "</table>\n",
       "</div>"
      ],
      "text/plain": [
       "  Country   TotalCases NewCases TotalDeaths NewDeaths TotalRecovered  \\\n",
       "0   World  607,528,822  463,810   6,493,061     1,208    583,595,093   \n",
       "1     USA   96,149,016      NaN  1,069,748        NaN     91,873,169   \n",
       "2   India   44,429,258      NaN    527,874        NaN     43,835,852   \n",
       "3  France   34,529,201   19,240    154,093         54     34,015,242   \n",
       "4  Brazil   34,414,011      NaN    683,914        NaN     33,457,359   \n",
       "\n",
       "  NewRecovered ActiveCases Serious Tot Cases/1M pop Deaths/1M pop  \\\n",
       "0      581,356  17,440,668  43,071           77,940         833.0   \n",
       "1          NaN   3,206,099   4,029              NaN           NaN   \n",
       "2          NaN      65,532     698           31,526           375   \n",
       "3       24,240     359,866     869          526,480         2,350   \n",
       "4          NaN     272,738   8,318          159,458         3,169   \n",
       "\n",
       "      TotalTests Tests/\\n1M pop\\n      Population  \n",
       "0            NaN              NaN             NaN  \n",
       "1  1,100,355,942              NaN                  \n",
       "2    885,881,136          628,608  1,409,273,386   \n",
       "3    271,490,188        4,139,517     65,584,999   \n",
       "4     63,776,166          295,508    215,818,679   "
      ]
     },
     "execution_count": 10,
     "metadata": {},
     "output_type": "execute_result"
    }
   ],
   "source": [
    "df.head()"
   ]
  },
  {
   "cell_type": "code",
   "execution_count": 11,
   "id": "5db3d7cb",
   "metadata": {
    "scrolled": false
   },
   "outputs": [
    {
     "data": {
      "text/html": [
       "<div>\n",
       "<style scoped>\n",
       "    .dataframe tbody tr th:only-of-type {\n",
       "        vertical-align: middle;\n",
       "    }\n",
       "\n",
       "    .dataframe tbody tr th {\n",
       "        vertical-align: top;\n",
       "    }\n",
       "\n",
       "    .dataframe thead th {\n",
       "        text-align: right;\n",
       "    }\n",
       "</style>\n",
       "<table border=\"1\" class=\"dataframe\">\n",
       "  <thead>\n",
       "    <tr style=\"text-align: right;\">\n",
       "      <th></th>\n",
       "      <th>Country</th>\n",
       "      <th>TotalCases</th>\n",
       "      <th>NewCases</th>\n",
       "      <th>TotalDeaths</th>\n",
       "      <th>NewDeaths</th>\n",
       "      <th>TotalRecovered</th>\n",
       "      <th>NewRecovered</th>\n",
       "      <th>ActiveCases</th>\n",
       "      <th>Serious</th>\n",
       "      <th>Tot Cases/1M pop</th>\n",
       "      <th>Deaths/1M pop</th>\n",
       "      <th>TotalTests</th>\n",
       "      <th>Tests/\\n1M pop\\n</th>\n",
       "      <th>Population</th>\n",
       "    </tr>\n",
       "  </thead>\n",
       "  <tbody>\n",
       "    <tr>\n",
       "      <th>0</th>\n",
       "      <td>World</td>\n",
       "      <td>607528822</td>\n",
       "      <td>463810</td>\n",
       "      <td>6493061</td>\n",
       "      <td>1208</td>\n",
       "      <td>583595093</td>\n",
       "      <td>581356</td>\n",
       "      <td>17440668</td>\n",
       "      <td>43071</td>\n",
       "      <td>77940</td>\n",
       "      <td>833.0</td>\n",
       "      <td>NaN</td>\n",
       "      <td>NaN</td>\n",
       "      <td>NaN</td>\n",
       "    </tr>\n",
       "    <tr>\n",
       "      <th>1</th>\n",
       "      <td>USA</td>\n",
       "      <td>96149016</td>\n",
       "      <td>NaN</td>\n",
       "      <td>1069748</td>\n",
       "      <td>NaN</td>\n",
       "      <td>91873169</td>\n",
       "      <td>NaN</td>\n",
       "      <td>3206099</td>\n",
       "      <td>4029</td>\n",
       "      <td>NaN</td>\n",
       "      <td>NaN</td>\n",
       "      <td>1100355942</td>\n",
       "      <td>NaN</td>\n",
       "      <td></td>\n",
       "    </tr>\n",
       "    <tr>\n",
       "      <th>2</th>\n",
       "      <td>India</td>\n",
       "      <td>44429258</td>\n",
       "      <td>NaN</td>\n",
       "      <td>527874</td>\n",
       "      <td>NaN</td>\n",
       "      <td>43835852</td>\n",
       "      <td>NaN</td>\n",
       "      <td>65532</td>\n",
       "      <td>698</td>\n",
       "      <td>31526</td>\n",
       "      <td>375</td>\n",
       "      <td>885881136</td>\n",
       "      <td>628608</td>\n",
       "      <td>1409273386</td>\n",
       "    </tr>\n",
       "    <tr>\n",
       "      <th>3</th>\n",
       "      <td>France</td>\n",
       "      <td>34529201</td>\n",
       "      <td>19240</td>\n",
       "      <td>154093</td>\n",
       "      <td>54</td>\n",
       "      <td>34015242</td>\n",
       "      <td>24240</td>\n",
       "      <td>359866</td>\n",
       "      <td>869</td>\n",
       "      <td>526480</td>\n",
       "      <td>2350</td>\n",
       "      <td>271490188</td>\n",
       "      <td>4139517</td>\n",
       "      <td>65584999</td>\n",
       "    </tr>\n",
       "    <tr>\n",
       "      <th>4</th>\n",
       "      <td>Brazil</td>\n",
       "      <td>34414011</td>\n",
       "      <td>NaN</td>\n",
       "      <td>683914</td>\n",
       "      <td>NaN</td>\n",
       "      <td>33457359</td>\n",
       "      <td>NaN</td>\n",
       "      <td>272738</td>\n",
       "      <td>8318</td>\n",
       "      <td>159458</td>\n",
       "      <td>3169</td>\n",
       "      <td>63776166</td>\n",
       "      <td>295508</td>\n",
       "      <td>215818679</td>\n",
       "    </tr>\n",
       "  </tbody>\n",
       "</table>\n",
       "</div>"
      ],
      "text/plain": [
       "  Country TotalCases NewCases TotalDeaths NewDeaths TotalRecovered  \\\n",
       "0   World  607528822   463810     6493061      1208      583595093   \n",
       "1     USA   96149016      NaN    1069748        NaN       91873169   \n",
       "2   India   44429258      NaN     527874        NaN       43835852   \n",
       "3  France   34529201    19240     154093         54       34015242   \n",
       "4  Brazil   34414011      NaN     683914        NaN       33457359   \n",
       "\n",
       "  NewRecovered ActiveCases Serious Tot Cases/1M pop Deaths/1M pop  TotalTests  \\\n",
       "0       581356    17440668   43071            77940         833.0         NaN   \n",
       "1          NaN     3206099    4029              NaN           NaN  1100355942   \n",
       "2          NaN       65532     698            31526           375   885881136   \n",
       "3        24240      359866     869           526480          2350   271490188   \n",
       "4          NaN      272738    8318           159458          3169    63776166   \n",
       "\n",
       "  Tests/\\n1M pop\\n   Population  \n",
       "0              NaN          NaN  \n",
       "1              NaN               \n",
       "2           628608  1409273386   \n",
       "3          4139517    65584999   \n",
       "4           295508   215818679   "
      ]
     },
     "execution_count": 11,
     "metadata": {},
     "output_type": "execute_result"
    }
   ],
   "source": [
    "for col in df.columns:\n",
    "    df[col] =df[col].str.replace(',','')\n",
    "df.head()"
   ]
  },
  {
   "cell_type": "code",
   "execution_count": 12,
   "id": "e4c88bf7",
   "metadata": {
    "scrolled": true
   },
   "outputs": [
    {
     "data": {
      "text/html": [
       "<div>\n",
       "<style scoped>\n",
       "    .dataframe tbody tr th:only-of-type {\n",
       "        vertical-align: middle;\n",
       "    }\n",
       "\n",
       "    .dataframe tbody tr th {\n",
       "        vertical-align: top;\n",
       "    }\n",
       "\n",
       "    .dataframe thead th {\n",
       "        text-align: right;\n",
       "    }\n",
       "</style>\n",
       "<table border=\"1\" class=\"dataframe\">\n",
       "  <thead>\n",
       "    <tr style=\"text-align: right;\">\n",
       "      <th></th>\n",
       "      <th>Country</th>\n",
       "      <th>TotalCases</th>\n",
       "      <th>NewCases</th>\n",
       "      <th>TotalDeaths</th>\n",
       "      <th>NewDeaths</th>\n",
       "      <th>TotalRecovered</th>\n",
       "      <th>NewRecovered</th>\n",
       "      <th>ActiveCases</th>\n",
       "      <th>Serious</th>\n",
       "      <th>Tot Cases/1M pop</th>\n",
       "      <th>Deaths/1M pop</th>\n",
       "      <th>TotalTests</th>\n",
       "      <th>Tests/\\n1M pop\\n</th>\n",
       "      <th>Population</th>\n",
       "    </tr>\n",
       "  </thead>\n",
       "  <tbody>\n",
       "    <tr>\n",
       "      <th>0</th>\n",
       "      <td>World</td>\n",
       "      <td>607528822</td>\n",
       "      <td>463810.0</td>\n",
       "      <td>6493061.0</td>\n",
       "      <td>1208.0</td>\n",
       "      <td>583595093.0</td>\n",
       "      <td>581356.0</td>\n",
       "      <td>17440668.0</td>\n",
       "      <td>43071.0</td>\n",
       "      <td>77940.0</td>\n",
       "      <td>833.0</td>\n",
       "      <td>NaN</td>\n",
       "      <td>NaN</td>\n",
       "      <td>NaN</td>\n",
       "    </tr>\n",
       "    <tr>\n",
       "      <th>1</th>\n",
       "      <td>USA</td>\n",
       "      <td>96149016</td>\n",
       "      <td>NaN</td>\n",
       "      <td>1069748.0</td>\n",
       "      <td>NaN</td>\n",
       "      <td>91873169.0</td>\n",
       "      <td>NaN</td>\n",
       "      <td>3206099.0</td>\n",
       "      <td>4029.0</td>\n",
       "      <td>NaN</td>\n",
       "      <td>NaN</td>\n",
       "      <td>1.100356e+09</td>\n",
       "      <td>NaN</td>\n",
       "      <td>NaN</td>\n",
       "    </tr>\n",
       "    <tr>\n",
       "      <th>2</th>\n",
       "      <td>India</td>\n",
       "      <td>44429258</td>\n",
       "      <td>NaN</td>\n",
       "      <td>527874.0</td>\n",
       "      <td>NaN</td>\n",
       "      <td>43835852.0</td>\n",
       "      <td>NaN</td>\n",
       "      <td>65532.0</td>\n",
       "      <td>698.0</td>\n",
       "      <td>31526.0</td>\n",
       "      <td>375.0</td>\n",
       "      <td>8.858811e+08</td>\n",
       "      <td>628608.0</td>\n",
       "      <td>1.409273e+09</td>\n",
       "    </tr>\n",
       "    <tr>\n",
       "      <th>3</th>\n",
       "      <td>France</td>\n",
       "      <td>34529201</td>\n",
       "      <td>19240.0</td>\n",
       "      <td>154093.0</td>\n",
       "      <td>54.0</td>\n",
       "      <td>34015242.0</td>\n",
       "      <td>24240.0</td>\n",
       "      <td>359866.0</td>\n",
       "      <td>869.0</td>\n",
       "      <td>526480.0</td>\n",
       "      <td>2350.0</td>\n",
       "      <td>2.714902e+08</td>\n",
       "      <td>4139517.0</td>\n",
       "      <td>6.558500e+07</td>\n",
       "    </tr>\n",
       "    <tr>\n",
       "      <th>4</th>\n",
       "      <td>Brazil</td>\n",
       "      <td>34414011</td>\n",
       "      <td>NaN</td>\n",
       "      <td>683914.0</td>\n",
       "      <td>NaN</td>\n",
       "      <td>33457359.0</td>\n",
       "      <td>NaN</td>\n",
       "      <td>272738.0</td>\n",
       "      <td>8318.0</td>\n",
       "      <td>159458.0</td>\n",
       "      <td>3169.0</td>\n",
       "      <td>6.377617e+07</td>\n",
       "      <td>295508.0</td>\n",
       "      <td>2.158187e+08</td>\n",
       "    </tr>\n",
       "  </tbody>\n",
       "</table>\n",
       "</div>"
      ],
      "text/plain": [
       "  Country  TotalCases  NewCases  TotalDeaths  NewDeaths  TotalRecovered  \\\n",
       "0   World   607528822  463810.0    6493061.0     1208.0     583595093.0   \n",
       "1     USA    96149016       NaN    1069748.0        NaN      91873169.0   \n",
       "2   India    44429258       NaN     527874.0        NaN      43835852.0   \n",
       "3  France    34529201   19240.0     154093.0       54.0      34015242.0   \n",
       "4  Brazil    34414011       NaN     683914.0        NaN      33457359.0   \n",
       "\n",
       "   NewRecovered  ActiveCases  Serious  Tot Cases/1M pop  Deaths/1M pop  \\\n",
       "0      581356.0   17440668.0  43071.0           77940.0          833.0   \n",
       "1           NaN    3206099.0   4029.0               NaN            NaN   \n",
       "2           NaN      65532.0    698.0           31526.0          375.0   \n",
       "3       24240.0     359866.0    869.0          526480.0         2350.0   \n",
       "4           NaN     272738.0   8318.0          159458.0         3169.0   \n",
       "\n",
       "     TotalTests  Tests/\\n1M pop\\n    Population  \n",
       "0           NaN               NaN           NaN  \n",
       "1  1.100356e+09               NaN           NaN  \n",
       "2  8.858811e+08          628608.0  1.409273e+09  \n",
       "3  2.714902e+08         4139517.0  6.558500e+07  \n",
       "4  6.377617e+07          295508.0  2.158187e+08  "
      ]
     },
     "execution_count": 12,
     "metadata": {},
     "output_type": "execute_result"
    }
   ],
   "source": [
    "for col in df.columns[1:]:\n",
    "    df[col] =pd.to_numeric(df[col], errors='coerce')\n",
    "df.head()"
   ]
  },
  {
   "cell_type": "code",
   "execution_count": 13,
   "id": "f8463a8e",
   "metadata": {
    "scrolled": false
   },
   "outputs": [
    {
     "name": "stdout",
     "output_type": "stream",
     "text": [
      "<class 'pandas.core.frame.DataFrame'>\n",
      "RangeIndex: 238 entries, 0 to 237\n",
      "Data columns (total 14 columns):\n",
      " #   Column            Non-Null Count  Dtype  \n",
      "---  ------            --------------  -----  \n",
      " 0   Country           238 non-null    object \n",
      " 1   TotalCases        238 non-null    int64  \n",
      " 2   NewCases          73 non-null     float64\n",
      " 3   TotalDeaths       233 non-null    float64\n",
      " 4   NewDeaths         46 non-null     float64\n",
      " 5   TotalRecovered    219 non-null    float64\n",
      " 6   NewRecovered      74 non-null     float64\n",
      " 7   ActiveCases       220 non-null    float64\n",
      " 8   Serious           159 non-null    float64\n",
      " 9   Tot Cases/1M pop  228 non-null    float64\n",
      " 10  Deaths/1M pop     223 non-null    float64\n",
      " 11  TotalTests        214 non-null    float64\n",
      " 12  Tests/\n",
      "1M pop\n",
      "    213 non-null    float64\n",
      " 13  Population        227 non-null    float64\n",
      "dtypes: float64(12), int64(1), object(1)\n",
      "memory usage: 26.2+ KB\n"
     ]
    }
   ],
   "source": [
    "df.info()"
   ]
  },
  {
   "cell_type": "code",
   "execution_count": 14,
   "id": "73d3b749",
   "metadata": {
    "scrolled": true
   },
   "outputs": [
    {
     "data": {
      "text/html": [
       "<div>\n",
       "<style scoped>\n",
       "    .dataframe tbody tr th:only-of-type {\n",
       "        vertical-align: middle;\n",
       "    }\n",
       "\n",
       "    .dataframe tbody tr th {\n",
       "        vertical-align: top;\n",
       "    }\n",
       "\n",
       "    .dataframe thead th {\n",
       "        text-align: right;\n",
       "    }\n",
       "</style>\n",
       "<table border=\"1\" class=\"dataframe\">\n",
       "  <thead>\n",
       "    <tr style=\"text-align: right;\">\n",
       "      <th></th>\n",
       "      <th>TotalCases</th>\n",
       "      <th>NewCases</th>\n",
       "      <th>TotalDeaths</th>\n",
       "      <th>NewDeaths</th>\n",
       "      <th>TotalRecovered</th>\n",
       "      <th>NewRecovered</th>\n",
       "      <th>ActiveCases</th>\n",
       "      <th>Serious</th>\n",
       "      <th>Tot Cases/1M pop</th>\n",
       "      <th>Deaths/1M pop</th>\n",
       "      <th>TotalTests</th>\n",
       "      <th>Tests/\\n1M pop\\n</th>\n",
       "      <th>Population</th>\n",
       "    </tr>\n",
       "  </thead>\n",
       "  <tbody>\n",
       "    <tr>\n",
       "      <th>0</th>\n",
       "      <td>607528822</td>\n",
       "      <td>463810.0</td>\n",
       "      <td>6493061.0</td>\n",
       "      <td>1208.0</td>\n",
       "      <td>583595093.0</td>\n",
       "      <td>581356.0</td>\n",
       "      <td>17440668.0</td>\n",
       "      <td>43071.0</td>\n",
       "      <td>77940.0</td>\n",
       "      <td>833.0</td>\n",
       "      <td>NaN</td>\n",
       "      <td>NaN</td>\n",
       "      <td>NaN</td>\n",
       "    </tr>\n",
       "    <tr>\n",
       "      <th>1</th>\n",
       "      <td>96149016</td>\n",
       "      <td>NaN</td>\n",
       "      <td>1069748.0</td>\n",
       "      <td>NaN</td>\n",
       "      <td>91873169.0</td>\n",
       "      <td>NaN</td>\n",
       "      <td>3206099.0</td>\n",
       "      <td>4029.0</td>\n",
       "      <td>NaN</td>\n",
       "      <td>NaN</td>\n",
       "      <td>1.100356e+09</td>\n",
       "      <td>NaN</td>\n",
       "      <td>NaN</td>\n",
       "    </tr>\n",
       "    <tr>\n",
       "      <th>2</th>\n",
       "      <td>44429258</td>\n",
       "      <td>NaN</td>\n",
       "      <td>527874.0</td>\n",
       "      <td>NaN</td>\n",
       "      <td>43835852.0</td>\n",
       "      <td>NaN</td>\n",
       "      <td>65532.0</td>\n",
       "      <td>698.0</td>\n",
       "      <td>31526.0</td>\n",
       "      <td>375.0</td>\n",
       "      <td>8.858811e+08</td>\n",
       "      <td>628608.0</td>\n",
       "      <td>1.409273e+09</td>\n",
       "    </tr>\n",
       "    <tr>\n",
       "      <th>3</th>\n",
       "      <td>34529201</td>\n",
       "      <td>19240.0</td>\n",
       "      <td>154093.0</td>\n",
       "      <td>54.0</td>\n",
       "      <td>34015242.0</td>\n",
       "      <td>24240.0</td>\n",
       "      <td>359866.0</td>\n",
       "      <td>869.0</td>\n",
       "      <td>526480.0</td>\n",
       "      <td>2350.0</td>\n",
       "      <td>2.714902e+08</td>\n",
       "      <td>4139517.0</td>\n",
       "      <td>6.558500e+07</td>\n",
       "    </tr>\n",
       "    <tr>\n",
       "      <th>4</th>\n",
       "      <td>34414011</td>\n",
       "      <td>NaN</td>\n",
       "      <td>683914.0</td>\n",
       "      <td>NaN</td>\n",
       "      <td>33457359.0</td>\n",
       "      <td>NaN</td>\n",
       "      <td>272738.0</td>\n",
       "      <td>8318.0</td>\n",
       "      <td>159458.0</td>\n",
       "      <td>3169.0</td>\n",
       "      <td>6.377617e+07</td>\n",
       "      <td>295508.0</td>\n",
       "      <td>2.158187e+08</td>\n",
       "    </tr>\n",
       "  </tbody>\n",
       "</table>\n",
       "</div>"
      ],
      "text/plain": [
       "   TotalCases  NewCases  TotalDeaths  NewDeaths  TotalRecovered  NewRecovered  \\\n",
       "0   607528822  463810.0    6493061.0     1208.0     583595093.0      581356.0   \n",
       "1    96149016       NaN    1069748.0        NaN      91873169.0           NaN   \n",
       "2    44429258       NaN     527874.0        NaN      43835852.0           NaN   \n",
       "3    34529201   19240.0     154093.0       54.0      34015242.0       24240.0   \n",
       "4    34414011       NaN     683914.0        NaN      33457359.0           NaN   \n",
       "\n",
       "   ActiveCases  Serious  Tot Cases/1M pop  Deaths/1M pop    TotalTests  \\\n",
       "0   17440668.0  43071.0           77940.0          833.0           NaN   \n",
       "1    3206099.0   4029.0               NaN            NaN  1.100356e+09   \n",
       "2      65532.0    698.0           31526.0          375.0  8.858811e+08   \n",
       "3     359866.0    869.0          526480.0         2350.0  2.714902e+08   \n",
       "4     272738.0   8318.0          159458.0         3169.0  6.377617e+07   \n",
       "\n",
       "   Tests/\\n1M pop\\n    Population  \n",
       "0               NaN           NaN  \n",
       "1               NaN           NaN  \n",
       "2          628608.0  1.409273e+09  \n",
       "3         4139517.0  6.558500e+07  \n",
       "4          295508.0  2.158187e+08  "
      ]
     },
     "execution_count": 14,
     "metadata": {},
     "output_type": "execute_result"
    }
   ],
   "source": [
    "d=df.drop(['Country'], axis='columns')\n",
    "d.head()"
   ]
  },
  {
   "cell_type": "code",
   "execution_count": 15,
   "id": "97ed23ec",
   "metadata": {
    "scrolled": false
   },
   "outputs": [
    {
     "name": "stderr",
     "output_type": "stream",
     "text": [
      "C:\\Users\\User\\anaconda3\\lib\\site-packages\\seaborn\\_decorators.py:36: FutureWarning: Pass the following variable as a keyword arg: x. From version 0.12, the only valid positional argument will be `data`, and passing other arguments without an explicit keyword will result in an error or misinterpretation.\n",
      "  warnings.warn(\n"
     ]
    },
    {
     "data": {
      "image/png": "[encoded data removed]",
      "text/plain": [
       "<Figure size 432x288 with 1 Axes>"
      ]
     },
     "metadata": {
      "needs_background": "light"
     },
     "output_type": "display_data"
    },
    {
     "name": "stderr",
     "output_type": "stream",
     "text": [
      "C:\\Users\\User\\anaconda3\\lib\\site-packages\\seaborn\\_decorators.py:36: FutureWarning: Pass the following variable as a keyword arg: x. From version 0.12, the only valid positional argument will be `data`, and passing other arguments without an explicit keyword will result in an error or misinterpretation.\n",
      "  warnings.warn(\n"
     ]
    },
    {
     "data": {
      "image/png": "[encoded data removed]",
      "text/plain": [
       "<Figure size 432x288 with 1 Axes>"
      ]
     },
     "metadata": {
      "needs_background": "light"
     },
     "output_type": "display_data"
    },
    {
     "name": "stderr",
     "output_type": "stream",
     "text": [
      "C:\\Users\\User\\anaconda3\\lib\\site-packages\\seaborn\\_decorators.py:36: FutureWarning: Pass the following variable as a keyword arg: x. From version 0.12, the only valid positional argument will be `data`, and passing other arguments without an explicit keyword will result in an error or misinterpretation.\n",
      "  warnings.warn(\n"
     ]
    },
    {
     "data": {
      "image/png": "[encoded data removed]",
      "text/plain": [
       "<Figure size 432x288 with 1 Axes>"
      ]
     },
     "metadata": {
      "needs_background": "light"
     },
     "output_type": "display_data"
    },
    {
     "name": "stderr",
     "output_type": "stream",
     "text": [
      "C:\\Users\\User\\anaconda3\\lib\\site-packages\\seaborn\\_decorators.py:36: FutureWarning: Pass the following variable as a keyword arg: x. From version 0.12, the only valid positional argument will be `data`, and passing other arguments without an explicit keyword will result in an error or misinterpretation.\n",
      "  warnings.warn(\n"
     ]
    },
    {
     "data": {
      "image/png": "[encoded data removed]",
      "text/plain": [
       "<Figure size 432x288 with 1 Axes>"
      ]
     },
     "metadata": {
      "needs_background": "light"
     },
     "output_type": "display_data"
    },
    {
     "name": "stderr",
     "output_type": "stream",
     "text": [
      "C:\\Users\\User\\anaconda3\\lib\\site-packages\\seaborn\\_decorators.py:36: FutureWarning: Pass the following variable as a keyword arg: x. From version 0.12, the only valid positional argument will be `data`, and passing other arguments without an explicit keyword will result in an error or misinterpretation.\n",
      "  warnings.warn(\n"
     ]
    },
    {
     "data": {
      "image/png": "[encoded data removed]",
      "text/plain": [
       "<Figure size 432x288 with 1 Axes>"
      ]
     },
     "metadata": {
      "needs_background": "light"
     },
     "output_type": "display_data"
    },
    {
     "name": "stderr",
     "output_type": "stream",
     "text": [
      "C:\\Users\\User\\anaconda3\\lib\\site-packages\\seaborn\\_decorators.py:36: FutureWarning: Pass the following variable as a keyword arg: x. From version 0.12, the only valid positional argument will be `data`, and passing other arguments without an explicit keyword will result in an error or misinterpretation.\n",
      "  warnings.warn(\n"
     ]
    },
    {
     "data": {
      "image/png": "[encoded data removed]",
      "text/plain": [
       "<Figure size 432x288 with 1 Axes>"
      ]
     },
     "metadata": {
      "needs_background": "light"
     },
     "output_type": "display_data"
    },
    {
     "name": "stderr",
     "output_type": "stream",
     "text": [
      "C:\\Users\\User\\anaconda3\\lib\\site-packages\\seaborn\\_decorators.py:36: FutureWarning: Pass the following variable as a keyword arg: x. From version 0.12, the only valid positional argument will be `data`, and passing other arguments without an explicit keyword will result in an error or misinterpretation.\n",
      "  warnings.warn(\n"
     ]
    },
    {
     "data": {
      "image/png": "[encoded data removed]",
      "text/plain": [
       "<Figure size 432x288 with 1 Axes>"
      ]
     },
     "metadata": {
      "needs_background": "light"
     },
     "output_type": "display_data"
    },
    {
     "name": "stderr",
     "output_type": "stream",
     "text": [
      "C:\\Users\\User\\anaconda3\\lib\\site-packages\\seaborn\\_decorators.py:36: FutureWarning: Pass the following variable as a keyword arg: x. From version 0.12, the only valid positional argument will be `data`, and passing other arguments without an explicit keyword will result in an error or misinterpretation.\n",
      "  warnings.warn(\n"
     ]
    },
    {
     "data": {
      "image/png": "[encoded data removed]",
      "text/plain": [
       "<Figure size 432x288 with 1 Axes>"
      ]
     },
     "metadata": {
      "needs_background": "light"
     },
     "output_type": "display_data"
    },
    {
     "name": "stderr",
     "output_type": "stream",
     "text": [
      "C:\\Users\\User\\anaconda3\\lib\\site-packages\\seaborn\\_decorators.py:36: FutureWarning: Pass the following variable as a keyword arg: x. From version 0.12, the only valid positional argument will be `data`, and passing other arguments without an explicit keyword will result in an error or misinterpretation.\n",
      "  warnings.warn(\n"
     ]
    },
    {
     "data": {
      "image/png": "[encoded data removed]",
      "text/plain": [
       "<Figure size 432x288 with 1 Axes>"
      ]
     },
     "metadata": {
      "needs_background": "light"
     },
     "output_type": "display_data"
    },
    {
     "name": "stderr",
     "output_type": "stream",
     "text": [
      "C:\\Users\\User\\anaconda3\\lib\\site-packages\\seaborn\\_decorators.py:36: FutureWarning: Pass the following variable as a keyword arg: x. From version 0.12, the only valid positional argument will be `data`, and passing other arguments without an explicit keyword will result in an error or misinterpretation.\n",
      "  warnings.warn(\n"
     ]
    },
    {
     "data": {
      "image/png": "[encoded data removed]",
      "text/plain": [
       "<Figure size 432x288 with 1 Axes>"
      ]
     },
     "metadata": {
      "needs_background": "light"
     },
     "output_type": "display_data"
    },
    {
     "name": "stderr",
     "output_type": "stream",
     "text": [
      "C:\\Users\\User\\anaconda3\\lib\\site-packages\\seaborn\\_decorators.py:36: FutureWarning: Pass the following variable as a keyword arg: x. From version 0.12, the only valid positional argument will be `data`, and passing other arguments without an explicit keyword will result in an error or misinterpretation.\n",
      "  warnings.warn(\n"
     ]
    },
    {
     "data": {
      "image/png": "[encoded data removed]",
      "text/plain": [
       "<Figure size 432x288 with 1 Axes>"
      ]
     },
     "metadata": {
      "needs_background": "light"
     },
     "output_type": "display_data"
    },
    {
     "name": "stderr",
     "output_type": "stream",
     "text": [
      "C:\\Users\\User\\anaconda3\\lib\\site-packages\\seaborn\\_decorators.py:36: FutureWarning: Pass the following variable as a keyword arg: x. From version 0.12, the only valid positional argument will be `data`, and passing other arguments without an explicit keyword will result in an error or misinterpretation.\n",
      "  warnings.warn(\n"
     ]
    },
    {
     "data": {
      "image/png": "[encoded data removed]",
      "text/plain": [
       "<Figure size 432x288 with 1 Axes>"
      ]
     },
     "metadata": {
      "needs_background": "light"
     },
     "output_type": "display_data"
    },
    {
     "name": "stderr",
     "output_type": "stream",
     "text": [
      "C:\\Users\\User\\anaconda3\\lib\\site-packages\\seaborn\\_decorators.py:36: FutureWarning: Pass the following variable as a keyword arg: x. From version 0.12, the only valid positional argument will be `data`, and passing other arguments without an explicit keyword will result in an error or misinterpretation.\n",
      "  warnings.warn(\n"
     ]
    },
    {
     "data": {
      "image/png": "[encoded data removed]",
      "text/plain": [
       "<Figure size 432x288 with 1 Axes>"
      ]
     },
     "metadata": {
      "needs_background": "light"
     },
     "output_type": "display_data"
    }
   ],
   "source": [
    "for i in d:\n",
    "    sns.boxplot(d[i])\n",
    "    plt.title(i)\n",
    "    plt.show()\n",
    "    "
   ]
  },
  {
   "cell_type": "code",
   "execution_count": 16,
   "id": "e900b97c",
   "metadata": {
    "scrolled": true
   },
   "outputs": [
    {
     "data": {
      "text/plain": [
       "Country               0\n",
       "TotalCases            0\n",
       "NewCases            165\n",
       "TotalDeaths           5\n",
       "NewDeaths           192\n",
       "TotalRecovered       19\n",
       "NewRecovered        164\n",
       "ActiveCases          18\n",
       "Serious              79\n",
       "Tot Cases/1M pop     10\n",
       "Deaths/1M pop        15\n",
       "TotalTests           24\n",
       "Tests/\\n1M pop\\n     25\n",
       "Population           11\n",
       "dtype: int64"
      ]
     },
     "execution_count": 16,
     "metadata": {},
     "output_type": "execute_result"
    }
   ],
   "source": [
    "df.isnull().sum()"
   ]
  },
  {
   "cell_type": "code",
   "execution_count": 17,
   "id": "2b695fe8",
   "metadata": {},
   "outputs": [
    {
     "data": {
      "text/plain": [
       "Country             0\n",
       "TotalCases          0\n",
       "NewCases            0\n",
       "TotalDeaths         0\n",
       "NewDeaths           0\n",
       "TotalRecovered      0\n",
       "NewRecovered        0\n",
       "ActiveCases         0\n",
       "Serious             0\n",
       "Tot Cases/1M pop    0\n",
       "Deaths/1M pop       0\n",
       "TotalTests          0\n",
       "Tests/\\n1M pop\\n    0\n",
       "Population          0\n",
       "dtype: int64"
      ]
     },
     "execution_count": 17,
     "metadata": {},
     "output_type": "execute_result"
    }
   ],
   "source": [
    "df=df.fillna(0)\n",
    "df.isnull().sum()"
   ]
  },
  {
   "cell_type": "code",
   "execution_count": 18,
   "id": "f8296026",
   "metadata": {},
   "outputs": [
    {
     "data": {
      "text/html": [
       "<div>\n",
       "<style scoped>\n",
       "    .dataframe tbody tr th:only-of-type {\n",
       "        vertical-align: middle;\n",
       "    }\n",
       "\n",
       "    .dataframe tbody tr th {\n",
       "        vertical-align: top;\n",
       "    }\n",
       "\n",
       "    .dataframe thead th {\n",
       "        text-align: right;\n",
       "    }\n",
       "</style>\n",
       "<table border=\"1\" class=\"dataframe\">\n",
       "  <thead>\n",
       "    <tr style=\"text-align: right;\">\n",
       "      <th></th>\n",
       "      <th>ActiveCases</th>\n",
       "      <th>Deaths/1M pop</th>\n",
       "      <th>NewCases</th>\n",
       "      <th>NewDeaths</th>\n",
       "      <th>NewRecovered</th>\n",
       "      <th>Population</th>\n",
       "      <th>Serious</th>\n",
       "      <th>Tests/\\n1M pop\\n</th>\n",
       "      <th>TotalCases</th>\n",
       "      <th>TotalDeaths</th>\n",
       "      <th>TotalRecovered</th>\n",
       "      <th>TotalTests</th>\n",
       "    </tr>\n",
       "    <tr>\n",
       "      <th>Country</th>\n",
       "      <th></th>\n",
       "      <th></th>\n",
       "      <th></th>\n",
       "      <th></th>\n",
       "      <th></th>\n",
       "      <th></th>\n",
       "      <th></th>\n",
       "      <th></th>\n",
       "      <th></th>\n",
       "      <th></th>\n",
       "      <th></th>\n",
       "      <th></th>\n",
       "    </tr>\n",
       "  </thead>\n",
       "  <tbody>\n",
       "    <tr>\n",
       "      <th>Afghanistan</th>\n",
       "      <td>13708.0</td>\n",
       "      <td>191.0</td>\n",
       "      <td>0.0</td>\n",
       "      <td>0.0</td>\n",
       "      <td>0.0</td>\n",
       "      <td>40819968.0</td>\n",
       "      <td>1124.0</td>\n",
       "      <td>26123.0</td>\n",
       "      <td>193004.0</td>\n",
       "      <td>7777.0</td>\n",
       "      <td>171519.0</td>\n",
       "      <td>1066354.0</td>\n",
       "    </tr>\n",
       "    <tr>\n",
       "      <th>Albania</th>\n",
       "      <td>4437.0</td>\n",
       "      <td>1248.0</td>\n",
       "      <td>335.0</td>\n",
       "      <td>1.0</td>\n",
       "      <td>363.0</td>\n",
       "      <td>2871022.0</td>\n",
       "      <td>0.0</td>\n",
       "      <td>676077.0</td>\n",
       "      <td>329352.0</td>\n",
       "      <td>3582.0</td>\n",
       "      <td>321333.0</td>\n",
       "      <td>1941032.0</td>\n",
       "    </tr>\n",
       "    <tr>\n",
       "      <th>Algeria</th>\n",
       "      <td>81487.0</td>\n",
       "      <td>151.0</td>\n",
       "      <td>0.0</td>\n",
       "      <td>0.0</td>\n",
       "      <td>0.0</td>\n",
       "      <td>45559479.0</td>\n",
       "      <td>6.0</td>\n",
       "      <td>5067.0</td>\n",
       "      <td>270272.0</td>\n",
       "      <td>6878.0</td>\n",
       "      <td>181907.0</td>\n",
       "      <td>230861.0</td>\n",
       "    </tr>\n",
       "    <tr>\n",
       "      <th>Andorra</th>\n",
       "      <td>82.0</td>\n",
       "      <td>1986.0</td>\n",
       "      <td>0.0</td>\n",
       "      <td>0.0</td>\n",
       "      <td>0.0</td>\n",
       "      <td>77532.0</td>\n",
       "      <td>14.0</td>\n",
       "      <td>3222386.0</td>\n",
       "      <td>46027.0</td>\n",
       "      <td>154.0</td>\n",
       "      <td>45791.0</td>\n",
       "      <td>249838.0</td>\n",
       "    </tr>\n",
       "    <tr>\n",
       "      <th>Angola</th>\n",
       "      <td>282.0</td>\n",
       "      <td>55.0</td>\n",
       "      <td>0.0</td>\n",
       "      <td>0.0</td>\n",
       "      <td>0.0</td>\n",
       "      <td>35072375.0</td>\n",
       "      <td>0.0</td>\n",
       "      <td>42763.0</td>\n",
       "      <td>102636.0</td>\n",
       "      <td>1917.0</td>\n",
       "      <td>100437.0</td>\n",
       "      <td>1499795.0</td>\n",
       "    </tr>\n",
       "    <tr>\n",
       "      <th>...</th>\n",
       "      <td>...</td>\n",
       "      <td>...</td>\n",
       "      <td>...</td>\n",
       "      <td>...</td>\n",
       "      <td>...</td>\n",
       "      <td>...</td>\n",
       "      <td>...</td>\n",
       "      <td>...</td>\n",
       "      <td>...</td>\n",
       "      <td>...</td>\n",
       "      <td>...</td>\n",
       "      <td>...</td>\n",
       "    </tr>\n",
       "    <tr>\n",
       "      <th>Western Sahara</th>\n",
       "      <td>0.0</td>\n",
       "      <td>2.0</td>\n",
       "      <td>0.0</td>\n",
       "      <td>0.0</td>\n",
       "      <td>0.0</td>\n",
       "      <td>629027.0</td>\n",
       "      <td>0.0</td>\n",
       "      <td>0.0</td>\n",
       "      <td>10.0</td>\n",
       "      <td>1.0</td>\n",
       "      <td>9.0</td>\n",
       "      <td>0.0</td>\n",
       "    </tr>\n",
       "    <tr>\n",
       "      <th>World</th>\n",
       "      <td>17440668.0</td>\n",
       "      <td>833.0</td>\n",
       "      <td>463810.0</td>\n",
       "      <td>1208.0</td>\n",
       "      <td>581356.0</td>\n",
       "      <td>0.0</td>\n",
       "      <td>43071.0</td>\n",
       "      <td>0.0</td>\n",
       "      <td>607528822.0</td>\n",
       "      <td>6493061.0</td>\n",
       "      <td>583595093.0</td>\n",
       "      <td>0.0</td>\n",
       "    </tr>\n",
       "    <tr>\n",
       "      <th>Yemen</th>\n",
       "      <td>652.0</td>\n",
       "      <td>69.0</td>\n",
       "      <td>0.0</td>\n",
       "      <td>0.0</td>\n",
       "      <td>0.0</td>\n",
       "      <td>31243301.0</td>\n",
       "      <td>23.0</td>\n",
       "      <td>10549.0</td>\n",
       "      <td>11926.0</td>\n",
       "      <td>2155.0</td>\n",
       "      <td>9119.0</td>\n",
       "      <td>329592.0</td>\n",
       "    </tr>\n",
       "    <tr>\n",
       "      <th>Zambia</th>\n",
       "      <td>394.0</td>\n",
       "      <td>206.0</td>\n",
       "      <td>0.0</td>\n",
       "      <td>0.0</td>\n",
       "      <td>0.0</td>\n",
       "      <td>19494894.0</td>\n",
       "      <td>1.0</td>\n",
       "      <td>189599.0</td>\n",
       "      <td>332822.0</td>\n",
       "      <td>4016.0</td>\n",
       "      <td>328412.0</td>\n",
       "      <td>3696213.0</td>\n",
       "    </tr>\n",
       "    <tr>\n",
       "      <th>Zimbabwe</th>\n",
       "      <td>150.0</td>\n",
       "      <td>365.0</td>\n",
       "      <td>0.0</td>\n",
       "      <td>0.0</td>\n",
       "      <td>0.0</td>\n",
       "      <td>15329720.0</td>\n",
       "      <td>12.0</td>\n",
       "      <td>161805.0</td>\n",
       "      <td>256708.0</td>\n",
       "      <td>5593.0</td>\n",
       "      <td>250965.0</td>\n",
       "      <td>2480422.0</td>\n",
       "    </tr>\n",
       "  </tbody>\n",
       "</table>\n",
       "<p>232 rows × 12 columns</p>\n",
       "</div>"
      ],
      "text/plain": [
       "                ActiveCases  Deaths/1M pop  NewCases  NewDeaths  NewRecovered  \\\n",
       "Country                                                                         \n",
       "Afghanistan         13708.0          191.0       0.0        0.0           0.0   \n",
       "Albania              4437.0         1248.0     335.0        1.0         363.0   \n",
       "Algeria             81487.0          151.0       0.0        0.0           0.0   \n",
       "Andorra                82.0         1986.0       0.0        0.0           0.0   \n",
       "Angola                282.0           55.0       0.0        0.0           0.0   \n",
       "...                     ...            ...       ...        ...           ...   \n",
       "Western Sahara          0.0            2.0       0.0        0.0           0.0   \n",
       "World            17440668.0          833.0  463810.0     1208.0      581356.0   \n",
       "Yemen                 652.0           69.0       0.0        0.0           0.0   \n",
       "Zambia                394.0          206.0       0.0        0.0           0.0   \n",
       "Zimbabwe              150.0          365.0       0.0        0.0           0.0   \n",
       "\n",
       "                Population  Serious  Tests/\\n1M pop\\n   TotalCases  \\\n",
       "Country                                                              \n",
       "Afghanistan     40819968.0   1124.0           26123.0     193004.0   \n",
       "Albania          2871022.0      0.0          676077.0     329352.0   \n",
       "Algeria         45559479.0      6.0            5067.0     270272.0   \n",
       "Andorra            77532.0     14.0         3222386.0      46027.0   \n",
       "Angola          35072375.0      0.0           42763.0     102636.0   \n",
       "...                    ...      ...               ...          ...   \n",
       "Western Sahara    629027.0      0.0               0.0         10.0   \n",
       "World                  0.0  43071.0               0.0  607528822.0   \n",
       "Yemen           31243301.0     23.0           10549.0      11926.0   \n",
       "Zambia          19494894.0      1.0          189599.0     332822.0   \n",
       "Zimbabwe        15329720.0     12.0          161805.0     256708.0   \n",
       "\n",
       "                TotalDeaths  TotalRecovered  TotalTests  \n",
       "Country                                                  \n",
       "Afghanistan          7777.0        171519.0   1066354.0  \n",
       "Albania              3582.0        321333.0   1941032.0  \n",
       "Algeria              6878.0        181907.0    230861.0  \n",
       "Andorra               154.0         45791.0    249838.0  \n",
       "Angola               1917.0        100437.0   1499795.0  \n",
       "...                     ...             ...         ...  \n",
       "Western Sahara          1.0             9.0         0.0  \n",
       "World             6493061.0     583595093.0         0.0  \n",
       "Yemen                2155.0          9119.0    329592.0  \n",
       "Zambia               4016.0        328412.0   3696213.0  \n",
       "Zimbabwe             5593.0        250965.0   2480422.0  \n",
       "\n",
       "[232 rows x 12 columns]"
      ]
     },
     "execution_count": 18,
     "metadata": {},
     "output_type": "execute_result"
    }
   ],
   "source": [
    "pd.pivot_table(df, index='Country', values=['TotalCases','NewCases','TotalDeaths','NewDeaths','TotalRecovered','NewRecovered','ActiveCases','Serious','Deaths/1M pop','TotalTests','Tests/\\n1M pop\\n','Population'])"
   ]
  },
  {
   "cell_type": "code",
   "execution_count": 19,
   "id": "c21a9187",
   "metadata": {},
   "outputs": [
    {
     "data": {
      "text/plain": [
       "<AxesSubplot:>"
      ]
     },
     "execution_count": 19,
     "metadata": {},
     "output_type": "execute_result"
    },
    {
     "data": {
      "image/png": "[encoded data removed]",
      "text/plain": [
       "<Figure size 432x288 with 2 Axes>"
      ]
     },
     "metadata": {
      "needs_background": "light"
     },
     "output_type": "display_data"
    }
   ],
   "source": [
    "cor=df.select_dtypes(py.number).corr()\n",
    "sns.heatmap(cor)"
   ]
  },
  {
   "cell_type": "code",
   "execution_count": 20,
   "id": "69ef8dc2",
   "metadata": {},
   "outputs": [
    {
     "data": {
      "text/html": [
       "<div>\n",
       "<style scoped>\n",
       "    .dataframe tbody tr th:only-of-type {\n",
       "        vertical-align: middle;\n",
       "    }\n",
       "\n",
       "    .dataframe tbody tr th {\n",
       "        vertical-align: top;\n",
       "    }\n",
       "\n",
       "    .dataframe thead th {\n",
       "        text-align: right;\n",
       "    }\n",
       "</style>\n",
       "<table border=\"1\" class=\"dataframe\">\n",
       "  <thead>\n",
       "    <tr style=\"text-align: right;\">\n",
       "      <th></th>\n",
       "      <th>TotalCases</th>\n",
       "    </tr>\n",
       "    <tr>\n",
       "      <th>Country</th>\n",
       "      <th></th>\n",
       "    </tr>\n",
       "  </thead>\n",
       "  <tbody>\n",
       "    <tr>\n",
       "      <th>World</th>\n",
       "      <td>607528822.0</td>\n",
       "    </tr>\n",
       "    <tr>\n",
       "      <th>USA</th>\n",
       "      <td>96149016.0</td>\n",
       "    </tr>\n",
       "    <tr>\n",
       "      <th>Total:</th>\n",
       "      <td>86789832.0</td>\n",
       "    </tr>\n",
       "    <tr>\n",
       "      <th>India</th>\n",
       "      <td>44429258.0</td>\n",
       "    </tr>\n",
       "    <tr>\n",
       "      <th>France</th>\n",
       "      <td>34529201.0</td>\n",
       "    </tr>\n",
       "  </tbody>\n",
       "</table>\n",
       "</div>"
      ],
      "text/plain": [
       "          TotalCases\n",
       "Country             \n",
       "World    607528822.0\n",
       "USA       96149016.0\n",
       "Total:    86789832.0\n",
       "India     44429258.0\n",
       "France    34529201.0"
      ]
     },
     "execution_count": 20,
     "metadata": {},
     "output_type": "execute_result"
    }
   ],
   "source": [
    "z=pd.pivot_table(df, index='Country', values=['TotalCases']).sort_values(by='TotalCases', ascending=False).round()\n",
    "z.head()"
   ]
  },
  {
   "cell_type": "code",
   "execution_count": 21,
   "id": "baa6f466",
   "metadata": {},
   "outputs": [
    {
     "data": {
      "text/html": [
       "<div>\n",
       "<style scoped>\n",
       "    .dataframe tbody tr th:only-of-type {\n",
       "        vertical-align: middle;\n",
       "    }\n",
       "\n",
       "    .dataframe tbody tr th {\n",
       "        vertical-align: top;\n",
       "    }\n",
       "\n",
       "    .dataframe thead th {\n",
       "        text-align: right;\n",
       "    }\n",
       "</style>\n",
       "<table border=\"1\" class=\"dataframe\">\n",
       "  <thead>\n",
       "    <tr style=\"text-align: right;\">\n",
       "      <th></th>\n",
       "      <th>NewCases</th>\n",
       "    </tr>\n",
       "    <tr>\n",
       "      <th>Country</th>\n",
       "      <th></th>\n",
       "    </tr>\n",
       "  </thead>\n",
       "  <tbody>\n",
       "    <tr>\n",
       "      <th>World</th>\n",
       "      <td>463810.0</td>\n",
       "    </tr>\n",
       "    <tr>\n",
       "      <th>Japan</th>\n",
       "      <td>139582.0</td>\n",
       "    </tr>\n",
       "    <tr>\n",
       "      <th>S. Korea</th>\n",
       "      <td>103919.0</td>\n",
       "    </tr>\n",
       "    <tr>\n",
       "      <th>Total:</th>\n",
       "      <td>66259.0</td>\n",
       "    </tr>\n",
       "    <tr>\n",
       "      <th>Russia</th>\n",
       "      <td>46321.0</td>\n",
       "    </tr>\n",
       "  </tbody>\n",
       "</table>\n",
       "</div>"
      ],
      "text/plain": [
       "          NewCases\n",
       "Country           \n",
       "World     463810.0\n",
       "Japan     139582.0\n",
       "S. Korea  103919.0\n",
       "Total:     66259.0\n",
       "Russia     46321.0"
      ]
     },
     "execution_count": 21,
     "metadata": {},
     "output_type": "execute_result"
    }
   ],
   "source": [
    "z=pd.pivot_table(df, index='Country', values=['NewCases']).sort_values(by='NewCases', ascending=False).round()\n",
    "z.head()"
   ]
  },
  {
   "cell_type": "code",
   "execution_count": 22,
   "id": "e992f700",
   "metadata": {},
   "outputs": [
    {
     "data": {
      "text/html": [
       "<div>\n",
       "<style scoped>\n",
       "    .dataframe tbody tr th:only-of-type {\n",
       "        vertical-align: middle;\n",
       "    }\n",
       "\n",
       "    .dataframe tbody tr th {\n",
       "        vertical-align: top;\n",
       "    }\n",
       "\n",
       "    .dataframe thead th {\n",
       "        text-align: right;\n",
       "    }\n",
       "</style>\n",
       "<table border=\"1\" class=\"dataframe\">\n",
       "  <thead>\n",
       "    <tr style=\"text-align: right;\">\n",
       "      <th></th>\n",
       "      <th>TotalDeaths</th>\n",
       "    </tr>\n",
       "    <tr>\n",
       "      <th>Country</th>\n",
       "      <th></th>\n",
       "    </tr>\n",
       "  </thead>\n",
       "  <tbody>\n",
       "    <tr>\n",
       "      <th>World</th>\n",
       "      <td>6493061.0</td>\n",
       "    </tr>\n",
       "    <tr>\n",
       "      <th>USA</th>\n",
       "      <td>1069748.0</td>\n",
       "    </tr>\n",
       "    <tr>\n",
       "      <th>Total:</th>\n",
       "      <td>927580.0</td>\n",
       "    </tr>\n",
       "    <tr>\n",
       "      <th>Brazil</th>\n",
       "      <td>683914.0</td>\n",
       "    </tr>\n",
       "    <tr>\n",
       "      <th>India</th>\n",
       "      <td>527874.0</td>\n",
       "    </tr>\n",
       "  </tbody>\n",
       "</table>\n",
       "</div>"
      ],
      "text/plain": [
       "         TotalDeaths\n",
       "Country             \n",
       "World      6493061.0\n",
       "USA        1069748.0\n",
       "Total:      927580.0\n",
       "Brazil      683914.0\n",
       "India       527874.0"
      ]
     },
     "execution_count": 22,
     "metadata": {},
     "output_type": "execute_result"
    }
   ],
   "source": [
    "z=pd.pivot_table(df, index='Country', values=['TotalDeaths']).sort_values(by='TotalDeaths', ascending=False).round()\n",
    "z.head()"
   ]
  },
  {
   "cell_type": "code",
   "execution_count": 23,
   "id": "0b393836",
   "metadata": {},
   "outputs": [
    {
     "data": {
      "text/html": [
       "<div>\n",
       "<style scoped>\n",
       "    .dataframe tbody tr th:only-of-type {\n",
       "        vertical-align: middle;\n",
       "    }\n",
       "\n",
       "    .dataframe tbody tr th {\n",
       "        vertical-align: top;\n",
       "    }\n",
       "\n",
       "    .dataframe thead th {\n",
       "        text-align: right;\n",
       "    }\n",
       "</style>\n",
       "<table border=\"1\" class=\"dataframe\">\n",
       "  <thead>\n",
       "    <tr style=\"text-align: right;\">\n",
       "      <th></th>\n",
       "      <th>ActiveCases</th>\n",
       "    </tr>\n",
       "    <tr>\n",
       "      <th>Country</th>\n",
       "      <th></th>\n",
       "    </tr>\n",
       "  </thead>\n",
       "  <tbody>\n",
       "    <tr>\n",
       "      <th>World</th>\n",
       "      <td>17440668.0</td>\n",
       "    </tr>\n",
       "    <tr>\n",
       "      <th>USA</th>\n",
       "      <td>3206099.0</td>\n",
       "    </tr>\n",
       "    <tr>\n",
       "      <th>Total:</th>\n",
       "      <td>2491524.0</td>\n",
       "    </tr>\n",
       "    <tr>\n",
       "      <th>S. Korea</th>\n",
       "      <td>2009968.0</td>\n",
       "    </tr>\n",
       "    <tr>\n",
       "      <th>Japan</th>\n",
       "      <td>1856477.0</td>\n",
       "    </tr>\n",
       "  </tbody>\n",
       "</table>\n",
       "</div>"
      ],
      "text/plain": [
       "          ActiveCases\n",
       "Country              \n",
       "World      17440668.0\n",
       "USA         3206099.0\n",
       "Total:      2491524.0\n",
       "S. Korea    2009968.0\n",
       "Japan       1856477.0"
      ]
     },
     "execution_count": 23,
     "metadata": {},
     "output_type": "execute_result"
    }
   ],
   "source": [
    "z=pd.pivot_table(df, index='Country', values=['ActiveCases']).sort_values(by='ActiveCases', ascending=False).round()\n",
    "z.head()"
   ]
  },
  {
   "cell_type": "code",
   "execution_count": 24,
   "id": "a43206d7",
   "metadata": {
    "scrolled": true
   },
   "outputs": [
    {
     "name": "stderr",
     "output_type": "stream",
     "text": [
      "C:\\Users\\User\\anaconda3\\lib\\site-packages\\seaborn\\_decorators.py:36: FutureWarning: Pass the following variables as keyword args: x, y. From version 0.12, the only valid positional argument will be `data`, and passing other arguments without an explicit keyword will result in an error or misinterpretation.\n",
      "  warnings.warn(\n"
     ]
    },
    {
     "data": {
      "text/plain": [
       "<AxesSubplot:xlabel='TotalTests', ylabel='TotalCases'>"
      ]
     },
     "execution_count": 24,
     "metadata": {},
     "output_type": "execute_result"
    },
    {
     "data": {
      "image/png": "[encoded data removed]",
      "text/plain": [
       "<Figure size 432x288 with 1 Axes>"
      ]
     },
     "metadata": {
      "needs_background": "light"
     },
     "output_type": "display_data"
    }
   ],
   "source": [
    "sns.scatterplot(df.TotalTests,df.TotalCases)"
   ]
  },
  {
   "cell_type": "code",
   "execution_count": 25,
   "id": "fc6767f9",
   "metadata": {},
   "outputs": [
    {
     "name": "stderr",
     "output_type": "stream",
     "text": [
      "C:\\Users\\User\\anaconda3\\lib\\site-packages\\seaborn\\_decorators.py:36: FutureWarning: Pass the following variables as keyword args: x, y. From version 0.12, the only valid positional argument will be `data`, and passing other arguments without an explicit keyword will result in an error or misinterpretation.\n",
      "  warnings.warn(\n"
     ]
    },
    {
     "data": {
      "text/plain": [
       "<AxesSubplot:xlabel='NewCases', ylabel='TotalTests'>"
      ]
     },
     "execution_count": 25,
     "metadata": {},
     "output_type": "execute_result"
    },
    {
     "data": {
      "image/png": "[encoded data removed]",
      "text/plain": [
       "<Figure size 432x288 with 1 Axes>"
      ]
     },
     "metadata": {
      "needs_background": "light"
     },
     "output_type": "display_data"
    }
   ],
   "source": [
    "sns.scatterplot(df.NewCases,df.TotalTests)"
   ]
  },
  {
   "cell_type": "code",
   "execution_count": 26,
   "id": "438da36e",
   "metadata": {},
   "outputs": [
    {
     "name": "stderr",
     "output_type": "stream",
     "text": [
      "C:\\Users\\User\\anaconda3\\lib\\site-packages\\seaborn\\_decorators.py:36: FutureWarning: Pass the following variables as keyword args: x, y. From version 0.12, the only valid positional argument will be `data`, and passing other arguments without an explicit keyword will result in an error or misinterpretation.\n",
      "  warnings.warn(\n"
     ]
    },
    {
     "data": {
      "text/plain": [
       "<AxesSubplot:xlabel='TotalTests', ylabel='NewCases'>"
      ]
     },
     "execution_count": 26,
     "metadata": {},
     "output_type": "execute_result"
    },
    {
     "data": {
      "image/png": "[encoded data removed]",
      "text/plain": [
       "<Figure size 432x288 with 1 Axes>"
      ]
     },
     "metadata": {
      "needs_background": "light"
     },
     "output_type": "display_data"
    }
   ],
   "source": [
    "sns.scatterplot(df.TotalTests,df.NewCases)"
   ]
  },
  {
   "cell_type": "code",
   "execution_count": 27,
   "id": "f0537902",
   "metadata": {},
   "outputs": [
    {
     "name": "stderr",
     "output_type": "stream",
     "text": [
      "C:\\Users\\User\\anaconda3\\lib\\site-packages\\seaborn\\_decorators.py:36: FutureWarning: Pass the following variables as keyword args: x, y. From version 0.12, the only valid positional argument will be `data`, and passing other arguments without an explicit keyword will result in an error or misinterpretation.\n",
      "  warnings.warn(\n"
     ]
    },
    {
     "data": {
      "text/plain": [
       "<AxesSubplot:xlabel='TotalRecovered', ylabel='TotalCases'>"
      ]
     },
     "execution_count": 27,
     "metadata": {},
     "output_type": "execute_result"
    },
    {
     "data": {
      "image/png": "[encoded data removed]",
      "text/plain": [
       "<Figure size 432x288 with 1 Axes>"
      ]
     },
     "metadata": {
      "needs_background": "light"
     },
     "output_type": "display_data"
    }
   ],
   "source": [
    "sns.scatterplot(df.TotalRecovered,df.TotalCases)"
   ]
  },
  {
   "cell_type": "code",
   "execution_count": 28,
   "id": "3a19a51d",
   "metadata": {},
   "outputs": [
    {
     "name": "stderr",
     "output_type": "stream",
     "text": [
      "C:\\Users\\User\\anaconda3\\lib\\site-packages\\seaborn\\_decorators.py:36: FutureWarning: Pass the following variables as keyword args: x, y. From version 0.12, the only valid positional argument will be `data`, and passing other arguments without an explicit keyword will result in an error or misinterpretation.\n",
      "  warnings.warn(\n"
     ]
    },
    {
     "data": {
      "text/plain": [
       "<AxesSubplot:xlabel='TotalDeaths', ylabel='TotalCases'>"
      ]
     },
     "execution_count": 28,
     "metadata": {},
     "output_type": "execute_result"
    },
    {
     "data": {
      "image/png": "[encoded data removed]",
      "text/plain": [
       "<Figure size 432x288 with 1 Axes>"
      ]
     },
     "metadata": {
      "needs_background": "light"
     },
     "output_type": "display_data"
    }
   ],
   "source": [
    "sns.scatterplot(df.TotalDeaths,df.TotalCases)"
   ]
  },
  {
   "cell_type": "code",
   "execution_count": 29,
   "id": "4b0a7c7c",
   "metadata": {},
   "outputs": [
    {
     "name": "stderr",
     "output_type": "stream",
     "text": [
      "C:\\Users\\User\\anaconda3\\lib\\site-packages\\seaborn\\_decorators.py:36: FutureWarning: Pass the following variables as keyword args: x, y. From version 0.12, the only valid positional argument will be `data`, and passing other arguments without an explicit keyword will result in an error or misinterpretation.\n",
      "  warnings.warn(\n"
     ]
    },
    {
     "data": {
      "text/plain": [
       "<AxesSubplot:xlabel='ActiveCases', ylabel='TotalCases'>"
      ]
     },
     "execution_count": 29,
     "metadata": {},
     "output_type": "execute_result"
    },
    {
     "data": {
      "image/png": "[encoded data removed]",
      "text/plain": [
       "<Figure size 432x288 with 1 Axes>"
      ]
     },
     "metadata": {
      "needs_background": "light"
     },
     "output_type": "display_data"
    }
   ],
   "source": [
    "sns.scatterplot(df.ActiveCases ,df.TotalCases)"
   ]
  }
 ],
 "metadata": {
  "kernelspec": {
   "display_name": "Python 3",
   "language": "python",
   "name": "python3"
  },
  "language_info": {
   "codemirror_mode": {
    "name": "ipython",
    "version": 3
   },
   "file_extension": ".py",
   "mimetype": "text/x-python",
   "name": "python",
   "nbconvert_exporter": "python",
   "pygments_lexer": "ipython3",
   "version": "3.8.8"
  }
 },
 "nbformat": 4,
 "nbformat_minor": 5
}
